{
 "cells": [
  {
   "cell_type": "code",
   "execution_count": null,
   "metadata": {},
   "outputs": [],
   "source": [
    "import numpy as np\n",
    "import matplotlib.pyplot as plt\n",
    "import skimage.data as data\n",
    "import skimage.segmentation as seg\n",
    "import skimage.filters as filters\n",
    "import skimage.draw as draw\n",
    "import skimage.color as color\n",
    "from skimage import io\n",
    "image = io.imread('basedata/train/benzene/v2.jpeg') \n",
    "\n",
    "\n",
    "image_gray = color.rgb2gray(image) \n",
    "\n",
    "\n",
    "def circle_points(resolution, center, radius):\n",
    "     \n",
    "    radians = np.linspace(0, 2*np.pi, resolution)\n",
    "    c = center[1] + radius*np.cos(radians)#polar co-ordinates\n",
    "    r = center[0] + radius*np.sin(radians)\n",
    "    \n",
    "    return np.array([c, r]).T\n",
    "\n",
    "points = circle_points(200, [80, 250], 80)[:-1]\n",
    "\n",
    "fig, ax = image_show(image)\n",
    "ax.plot(points[:, 0], points[:, 1], '--r', lw=3)\n",
    "\n",
    "snake = seg.active_contour(image_gray, points)\n",
    "fig, ax = image_show(image)\n",
    "ax.plot(points[:, 0], points[:, 1], '--r', lw=3)\n",
    "ax.plot(snake[:, 0], snake[:, 1], '-b', lw=3)\n",
    "\n",
    "snake = seg.active_contour(image_gray, points,alpha=0.06,beta=0.3)\n",
    "fig, ax = image_show(image)\n",
    "ax.plot(points[:, 0], points[:, 1], '--r', lw=3)\n",
    "ax.plot(snake[:, 0], snake[:, 1], '-b', lw=3)\n",
    "\n",
    "image_labels = np.zeros(image_gray.shape, dtype=np.uint8)\n",
    "\n",
    "indices = draw.circle_perimeter(80, 250,20)#from here\n",
    "image_labels[indices] = 1\n",
    "image_labels[points[:, 1].astype(np.int), points[:, 0].astype(np.int)] = 2\n",
    "\n",
    "\n",
    "image_segmented = seg.random_walker(image_gray, image_labels)\n",
    "\n",
    "fig, ax = image_show(image_gray)\n",
    "ax.imshow(image_segmented == 1, alpha=0.3)\n",
    "\n",
    "image_segmented = seg.random_walker(image_gray, image_labels, beta = 3000)\n",
    "\n",
    "fig, ax = image_show(image_gray)\n",
    "ax.imshow(image_segmented == 1, alpha=0.3)"
   ]
  }
 ],
 "metadata": {
  "kernelspec": {
   "display_name": "Python 3",
   "language": "python",
   "name": "python3"
  },
  "language_info": {
   "codemirror_mode": {
    "name": "ipython",
    "version": 3
   },
   "file_extension": ".py",
   "mimetype": "text/x-python",
   "name": "python",
   "nbconvert_exporter": "python",
   "pygments_lexer": "ipython3",
   "version": "3.7.6"
  }
 },
 "nbformat": 4,
 "nbformat_minor": 4
}
