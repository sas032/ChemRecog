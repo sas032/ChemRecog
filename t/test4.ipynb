{
 "cells": [
  {
   "cell_type": "code",
   "execution_count": 2,
   "metadata": {},
   "outputs": [],
   "source": [
    "import numpy as np\n",
    "import cv2\n",
    "import matplotlib.pyplot as plt"
   ]
  },
  {
   "cell_type": "code",
   "execution_count": 3,
   "metadata": {},
   "outputs": [],
   "source": [
    "##INPUT PREPROCESSING AND SEGMENTATION"
   ]
  },
  {
   "cell_type": "code",
   "execution_count": 19,
   "metadata": {},
   "outputs": [
    {
     "ename": "NameError",
     "evalue": "name 'imgResult' is not defined",
     "output_type": "error",
     "traceback": [
      "\u001b[0;31m---------------------------------------------------------------------------\u001b[0m",
      "\u001b[0;31mNameError\u001b[0m                                 Traceback (most recent call last)",
      "\u001b[0;32m<ipython-input-19-6f832c4c791e>\u001b[0m in \u001b[0;36m<module>\u001b[0;34m\u001b[0m\n\u001b[1;32m     31\u001b[0m \u001b[0;34m\u001b[0m\u001b[0m\n\u001b[1;32m     32\u001b[0m \u001b[0;34m\u001b[0m\u001b[0m\n\u001b[0;32m---> 33\u001b[0;31m \u001b[0mcv2\u001b[0m\u001b[0;34m.\u001b[0m\u001b[0mwatershed\u001b[0m\u001b[0;34m(\u001b[0m\u001b[0mimgResult\u001b[0m\u001b[0;34m,\u001b[0m \u001b[0mmarkers\u001b[0m\u001b[0;34m)\u001b[0m\u001b[0;34m\u001b[0m\u001b[0;34m\u001b[0m\u001b[0m\n\u001b[0m\u001b[1;32m     34\u001b[0m \u001b[0;31m#mark = np.zeros(markers.shape, dtype=np.uint8)\u001b[0m\u001b[0;34m\u001b[0m\u001b[0;34m\u001b[0m\u001b[0;34m\u001b[0m\u001b[0m\n\u001b[1;32m     35\u001b[0m \u001b[0mmark\u001b[0m \u001b[0;34m=\u001b[0m \u001b[0mmarkers\u001b[0m\u001b[0;34m.\u001b[0m\u001b[0mastype\u001b[0m\u001b[0;34m(\u001b[0m\u001b[0;34m'uint8'\u001b[0m\u001b[0;34m)\u001b[0m\u001b[0;34m\u001b[0m\u001b[0;34m\u001b[0m\u001b[0m\n",
      "\u001b[0;31mNameError\u001b[0m: name 'imgResult' is not defined"
     ]
    }
   ],
   "source": [
    "img = cv2.imread('basedata/train/benzene/v2.jpeg')\n",
    "height, width, channels = img.shape\n",
    "\n",
    "\n",
    "#prepro\n",
    "img_grayscale = cv2.cvtColor(img, cv2.COLOR_BGR2GRAY)\n",
    "\n",
    "#segmentation\n",
    "#laplace\n",
    "dst = cv2.Laplacian(img_grayscale, cv2.CV_16S, ksize=3)\n",
    "abs_dst = cv2.convertScaleAbs(dst)\n",
    "\n",
    "#distance transform\n",
    "dist = cv2.distanceTransform(abs_dst, cv2.DIST_L2, 3)\n",
    "cv2.normalize(dist, dist, 0, 1.0, cv2.NORM_MINMAX)\n",
    "#dist=distance trans image\n",
    "\n",
    "_, dist = cv2.threshold(dist, 0.4, 1.0, cv2.THRESH_BINARY)\n",
    "kernel1 = np.ones((3,3), dtype=np.uint8)\n",
    "dist = cv2.dilate(dist, kernel1)\n",
    "#dist=dilated peaks\n",
    "\n",
    "dist_8u = dist.astype('uint8')\n",
    "\n",
    "contours, hierarchy = cv2.findContours(dist_8u, cv2.RETR_EXTERNAL, cv2.CHAIN_APPROX_SIMPLE)\n",
    "markers = np.zeros(dist.shape, dtype=np.int32)\n",
    "for i in range(len(contours)):\n",
    "    cv2.drawContours(markers, contours, i, (i+1), -1)\n",
    "cv2.circle(markers, (5,5), 3, (255,255,255), -1)\n",
    "markers_8u = (markers * 10).astype('uint8')\n",
    "\n",
    "\n",
    "cv2.watershed(imgResult, markers)\n",
    "#mark = np.zeros(markers.shape, dtype=np.uint8)\n",
    "mark = markers.astype('uint8')\n",
    "mark = cv2.bitwise_not(mark)\n",
    "# uncomment this if you want to see how the mark\n",
    "# image looks like at that point\n",
    "cv2.imshow('Markers_v2', mark)\n",
    "\n",
    "# cv2.imshow('Markers', markers_8u)\n",
    "cv2.waitKey(0)\n",
    "cv2.destroyAllWindows()"
   ]
  },
  {
   "cell_type": "code",
   "execution_count": null,
   "metadata": {},
   "outputs": [],
   "source": []
  }
 ],
 "metadata": {
  "kernelspec": {
   "display_name": "Python 3",
   "language": "python",
   "name": "python3"
  },
  "language_info": {
   "codemirror_mode": {
    "name": "ipython",
    "version": 3
   },
   "file_extension": ".py",
   "mimetype": "text/x-python",
   "name": "python",
   "nbconvert_exporter": "python",
   "pygments_lexer": "ipython3",
   "version": "3.7.6"
  }
 },
 "nbformat": 4,
 "nbformat_minor": 4
}
