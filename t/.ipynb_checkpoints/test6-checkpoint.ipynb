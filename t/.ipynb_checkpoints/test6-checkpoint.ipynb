{
 "cells": [
  {
   "cell_type": "code",
   "execution_count": 2,
   "metadata": {},
   "outputs": [
    {
     "ename": "NameError",
     "evalue": "name 'image_show' is not defined",
     "output_type": "error",
     "traceback": [
      "\u001b[1;31m---------------------------------------------------------------------------\u001b[0m",
      "\u001b[1;31mNameError\u001b[0m                                 Traceback (most recent call last)",
      "\u001b[1;32m<ipython-input-2-5748117c4f46>\u001b[0m in \u001b[0;36m<module>\u001b[1;34m\u001b[0m\n\u001b[0;32m     23\u001b[0m \u001b[0mpoints\u001b[0m \u001b[1;33m=\u001b[0m \u001b[0mcircle_points\u001b[0m\u001b[1;33m(\u001b[0m\u001b[1;36m200\u001b[0m\u001b[1;33m,\u001b[0m \u001b[1;33m[\u001b[0m\u001b[1;36m80\u001b[0m\u001b[1;33m,\u001b[0m \u001b[1;36m250\u001b[0m\u001b[1;33m]\u001b[0m\u001b[1;33m,\u001b[0m \u001b[1;36m80\u001b[0m\u001b[1;33m)\u001b[0m\u001b[1;33m[\u001b[0m\u001b[1;33m:\u001b[0m\u001b[1;33m-\u001b[0m\u001b[1;36m1\u001b[0m\u001b[1;33m]\u001b[0m\u001b[1;33m\u001b[0m\u001b[1;33m\u001b[0m\u001b[0m\n\u001b[0;32m     24\u001b[0m \u001b[1;33m\u001b[0m\u001b[0m\n\u001b[1;32m---> 25\u001b[1;33m \u001b[0mfig\u001b[0m\u001b[1;33m,\u001b[0m \u001b[0max\u001b[0m \u001b[1;33m=\u001b[0m \u001b[0mimage_show\u001b[0m\u001b[1;33m(\u001b[0m\u001b[0mimage\u001b[0m\u001b[1;33m)\u001b[0m\u001b[1;33m\u001b[0m\u001b[1;33m\u001b[0m\u001b[0m\n\u001b[0m\u001b[0;32m     26\u001b[0m \u001b[0max\u001b[0m\u001b[1;33m.\u001b[0m\u001b[0mplot\u001b[0m\u001b[1;33m(\u001b[0m\u001b[0mpoints\u001b[0m\u001b[1;33m[\u001b[0m\u001b[1;33m:\u001b[0m\u001b[1;33m,\u001b[0m \u001b[1;36m0\u001b[0m\u001b[1;33m]\u001b[0m\u001b[1;33m,\u001b[0m \u001b[0mpoints\u001b[0m\u001b[1;33m[\u001b[0m\u001b[1;33m:\u001b[0m\u001b[1;33m,\u001b[0m \u001b[1;36m1\u001b[0m\u001b[1;33m]\u001b[0m\u001b[1;33m,\u001b[0m \u001b[1;34m'--r'\u001b[0m\u001b[1;33m,\u001b[0m \u001b[0mlw\u001b[0m\u001b[1;33m=\u001b[0m\u001b[1;36m3\u001b[0m\u001b[1;33m)\u001b[0m\u001b[1;33m\u001b[0m\u001b[1;33m\u001b[0m\u001b[0m\n\u001b[0;32m     27\u001b[0m \u001b[1;33m\u001b[0m\u001b[0m\n",
      "\u001b[1;31mNameError\u001b[0m: name 'image_show' is not defined"
     ]
    }
   ],
   "source": [
    "import numpy as np\n",
    "import matplotlib.pyplot as plt\n",
    "import skimage.data as data\n",
    "import skimage.segmentation as seg\n",
    "import skimage.filters as filters\n",
    "import skimage.draw as draw\n",
    "import skimage.color as color\n",
    "from skimage import io\n",
    "image = io.imread('basedata/train/benzene/v2.jpeg') \n",
    "\n",
    "\n",
    "image_gray = color.rgb2gray(image) \n",
    "\n",
    "\n",
    "def circle_points(resolution, center, radius):\n",
    "     \n",
    "    radians = np.linspace(0, 2*np.pi, resolution)\n",
    "    c = center[1] + radius*np.cos(radians)#polar co-ordinates\n",
    "    r = center[0] + radius*np.sin(radians)\n",
    "    \n",
    "    return np.array([c, r]).T\n",
    "\n",
    "points = circle_points(200, [80, 250], 80)[:-1]\n",
    "\n",
    "fig, ax = image_show(image)\n",
    "ax.plot(points[:, 0], points[:, 1], '--r', lw=3)\n",
    "\n",
    "snake = seg.active_contour(image_gray, points)\n",
    "fig, ax = image_show(image)\n",
    "ax.plot(points[:, 0], points[:, 1], '--r', lw=3)\n",
    "ax.plot(snake[:, 0], snake[:, 1], '-b', lw=3)\n",
    "\n",
    "snake = seg.active_contour(image_gray, points,alpha=0.06,beta=0.3)\n",
    "fig, ax = image_show(image)\n",
    "ax.plot(points[:, 0], points[:, 1], '--r', lw=3)\n",
    "ax.plot(snake[:, 0], snake[:, 1], '-b', lw=3)\n",
    "\n",
    "image_labels = np.zeros(image_gray.shape, dtype=np.uint8)\n",
    "\n",
    "indices = draw.circle_perimeter(80, 250,20)#from here\n",
    "image_labels[indices] = 1\n",
    "image_labels[points[:, 1].astype(np.int), points[:, 0].astype(np.int)] = 2\n",
    "\n",
    "\n",
    "image_segmented = seg.random_walker(image_gray, image_labels)\n",
    "\n",
    "fig, ax = image_show(image_gray)\n",
    "ax.imshow(image_segmented == 1, alpha=0.3)\n",
    "\n",
    "image_segmented = seg.random_walker(image_gray, image_labels, beta = 3000)\n",
    "\n",
    "fig, ax = image_show(image_gray)\n",
    "ax.imshow(image_segmented == 1, alpha=0.3)"
   ]
  }
 ],
 "metadata": {
  "kernelspec": {
   "display_name": "Python 3",
   "language": "python",
   "name": "python3"
  },
  "language_info": {
   "codemirror_mode": {
    "name": "ipython",
    "version": 3
   },
   "file_extension": ".py",
   "mimetype": "text/x-python",
   "name": "python",
   "nbconvert_exporter": "python",
   "pygments_lexer": "ipython3",
   "version": "3.6.10"
  }
 },
 "nbformat": 4,
 "nbformat_minor": 4
}
