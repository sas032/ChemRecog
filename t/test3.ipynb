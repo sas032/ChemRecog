{
 "cells": [
  {
   "cell_type": "code",
   "execution_count": 2,
   "metadata": {},
   "outputs": [],
   "source": [
    "import numpy as np\n",
    "import cv2\n",
    "import matplotlib.pyplot as plt"
   ]
  },
  {
   "cell_type": "code",
   "execution_count": 3,
   "metadata": {},
   "outputs": [],
   "source": [
    "##INPUT PREPROCESSING AND SEGMENTATION"
   ]
  },
  {
   "cell_type": "code",
   "execution_count": 47,
   "metadata": {},
   "outputs": [
    {
     "name": "stdout",
     "output_type": "stream",
     "text": [
      "[[0 0 0 ... 0 0 0]\n",
      " [0 0 0 ... 0 0 0]\n",
      " [0 0 0 ... 0 0 0]\n",
      " ...\n",
      " [0 0 0 ... 0 0 0]\n",
      " [0 0 0 ... 0 0 0]\n",
      " [0 0 0 ... 0 0 0]]\n"
     ]
    }
   ],
   "source": [
    "img = cv2.imread('basedata/train/benzene/v2.jpeg')\n",
    "height, width, channels = img.shape\n",
    "\n",
    "#prepro\n",
    "img_grayscale = cv2.cvtColor(img, cv2.COLOR_BGR2GRAY)\n",
    "\n",
    "#segmentation\n",
    "#laplace\n",
    "dst = cv2.Laplacian(img_grayscale, cv2.CV_16S, ksize=3)\n",
    "abs_dst = cv2.convertScaleAbs(dst)\n",
    "\n",
    "#distance transform\n",
    "im = cv2.distanceTransform(abs_dst, cv2.DIST_L2, 3)\n",
    "cv2.normalize(im, im, 0, 1.0, cv2.NORM_MINMAX)\n",
    "_, im = cv2.threshold(dist, 0.4, 1.0, cv2.THRESH_BINARY)\n",
    "kernel1 = np.ones((3,3), dtype=np.uint8)\n",
    "im = cv2.dilate(im, kernel1)\n",
    "\n",
    "\n",
    "\n",
    "#contour\n",
    "im_8u = im.astype('uint8')\n",
    "contours,hierachy = cv2.findContours(im_8u, cv2.RETR_EXTERNAL, cv2.CHAIN_APPROX_SIMPLE)\n",
    "markers = np.zeros(im.shape, dtype=np.int32)\n",
    "for i in range(len(contours)):\n",
    "    cv2.drawContours(markers, contours, i, (i+1), -1)\n",
    "cv2.circle(markers, (5,5), 3, (255,255,255), -1)\n",
    "markers_8u = (markers * 10).astype('uint8')\n",
    "# cv2.imshow('Markers', markers_8u)\n",
    "# cv2.waitKey(0)\n",
    "# cv2.destroyAllWindows()\n",
    "\n",
    "\n",
    "# dist_8u = im.astype('uint8')\n",
    "# contours,hierachy = cv2.findContours(dist_8u, cv2.RETR_EXTERNAL, cv2.CHAIN_APPROX_SIMPLE)\n",
    "#cv2.drawContours(img,contours,-1,(0,255,0),2)\n",
    "# cv2.imshow('Peaks', img)\n",
    "# cv2.waitKey(0)\n",
    "# cv2.destroyAllWindows()"
   ]
  },
  {
   "cell_type": "code",
   "execution_count": null,
   "metadata": {},
   "outputs": [],
   "source": []
  }
 ],
 "metadata": {
  "kernelspec": {
   "display_name": "Python 3",
   "language": "python",
   "name": "python3"
  },
  "language_info": {
   "codemirror_mode": {
    "name": "ipython",
    "version": 3
   },
   "file_extension": ".py",
   "mimetype": "text/x-python",
   "name": "python",
   "nbconvert_exporter": "python",
   "pygments_lexer": "ipython3",
   "version": "3.7.6"
  }
 },
 "nbformat": 4,
 "nbformat_minor": 4
}
