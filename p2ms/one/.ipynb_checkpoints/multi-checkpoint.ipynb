{
 "cells": [
  {
   "cell_type": "code",
   "execution_count": 5,
   "metadata": {},
   "outputs": [],
   "source": [
    "from __future__ import absolute_import, division, print_function, unicode_literals\n",
    "import tensorflow as tf\n",
    "import os\n",
    "from shutil import copy2\n",
    "import csv\n",
    "import pickle\n",
    "import numpy as np\n",
    "import matplotlib.pyplot as plt\n",
    "import tensorflow_hub as hub\n",
    "import pandas as pd\n",
    "from PIL import Image"
   ]
  },
  {
   "cell_type": "code",
   "execution_count": 6,
   "metadata": {},
   "outputs": [],
   "source": [
    "pd.set_option(\"display.precision\", 8)"
   ]
  },
  {
   "cell_type": "code",
   "execution_count": 7,
   "metadata": {},
   "outputs": [],
   "source": [
    "data_root = (\"../Datasets/\")"
   ]
  },
  {
   "cell_type": "code",
   "execution_count": 8,
   "metadata": {},
   "outputs": [
    {
     "name": "stdout",
     "output_type": "stream",
     "text": [
      "Found 7 images belonging to 16 classes.\n",
      "Found 44 images belonging to 16 classes.\n"
     ]
    }
   ],
   "source": [
    "IMAGE_SHAPE = (224, 224)\n",
    "TRAINING_DATA_DIR = str(data_root)\n",
    "\n",
    "datagen_kwargs = dict(rescale=1./255, validation_split=.20)\n",
    "valid_datagen = tf.keras.preprocessing.image.ImageDataGenerator(**datagen_kwargs)\n",
    "valid_generator = valid_datagen.flow_from_directory(\n",
    "    TRAINING_DATA_DIR, \n",
    "    subset=\"validation\", \n",
    "    shuffle=True,\n",
    "    target_size=IMAGE_SHAPE\n",
    ")\n",
    "\n",
    "train_datagen = tf.keras.preprocessing.image.ImageDataGenerator(**datagen_kwargs)\n",
    "train_generator = train_datagen.flow_from_directory(\n",
    "    TRAINING_DATA_DIR, \n",
    "    subset=\"training\", \n",
    "    shuffle=True,\n",
    "    target_size=IMAGE_SHAPE)"
   ]
  },
  {
   "cell_type": "code",
   "execution_count": 9,
   "metadata": {},
   "outputs": [
    {
     "name": "stdout",
     "output_type": "stream",
     "text": [
      "{'Adrenaline': 0, 'Ethane': 1, 'Ethene': 2, 'Ethylene': 3, 'Isopentane': 4, 'M-xykene (1,3 - dimethylbenzene)': 5, 'Neopentane': 6, 'P-xylene (1,4 - dimethylbenzene)': 7, 'Phenylalanine': 8, 'Propylene': 9, 'acetaminophen': 10, 'acetylsalicylic': 11, 'benzene': 12, 'ibuprofen': 13, 'o-xylene (1,2 - dimethylbenzene)': 14, 'unknown': 15}\n"
     ]
    }
   ],
   "source": [
    "print (train_generator.class_indices)"
   ]
  },
  {
   "cell_type": "code",
   "execution_count": 10,
   "metadata": {},
   "outputs": [
    {
     "name": "stderr",
     "output_type": "stream",
     "text": [
      "'cat' is not recognized as an internal or external command,\n",
      "operable program or batch file.\n"
     ]
    },
    {
     "name": "stdout",
     "output_type": "stream",
     "text": [
      "Model: \"sequential\"\n",
      "_________________________________________________________________\n",
      "Layer (type)                 Output Shape              Param #   \n",
      "=================================================================\n",
      "keras_layer (KerasLayer)     (None, 1280)              2257984   \n",
      "_________________________________________________________________\n",
      "dropout (Dropout)            (None, 1280)              0         \n",
      "_________________________________________________________________\n",
      "dense (Dense)                (None, 16)                20496     \n",
      "=================================================================\n",
      "Total params: 2,278,480\n",
      "Trainable params: 20,496\n",
      "Non-trainable params: 2,257,984\n",
      "_________________________________________________________________\n"
     ]
    }
   ],
   "source": [
    "labels = '\\n'.join(sorted(train_generator.class_indices.keys()))\n",
    "with open('labels.txt', 'w') as f:\n",
    "  f.write(labels)\n",
    "!cat labels.txt\n",
    "\n",
    "IMAGE_SIZE = 224\n",
    "model = tf.keras.Sequential([\n",
    "  hub.KerasLayer(\"https://tfhub.dev/google/tf2-preview/mobilenet_v2/feature_vector/4\", \n",
    "                 output_shape=[1280],\n",
    "                 trainable=False),\n",
    "  tf.keras.layers.Dropout(0.4),\n",
    "  tf.keras.layers.Dense(train_generator.num_classes, activation='softmax')\n",
    "])\n",
    "model.build([None, 224, 224, 3])\n",
    "\n",
    "model.summary()"
   ]
  },
  {
   "cell_type": "code",
   "execution_count": 11,
   "metadata": {},
   "outputs": [
    {
     "name": "stderr",
     "output_type": "stream",
     "text": [
      "C:\\Users\\supri\\anaconda3\\lib\\site-packages\\tensorflow\\python\\keras\\optimizer_v2\\optimizer_v2.py:374: UserWarning: The `lr` argument is deprecated, use `learning_rate` instead.\n",
      "  warnings.warn(\n"
     ]
    },
    {
     "name": "stdout",
     "output_type": "stream",
     "text": [
      "Epoch 1/100\n",
      "2/2 [==============================] - 19s 3s/step - loss: 3.4827 - acc: 0.0455 - val_loss: 2.1605 - val_acc: 0.2857\n",
      "Epoch 2/100\n",
      "2/2 [==============================] - 4s 1s/step - loss: 2.6240 - acc: 0.1591 - val_loss: 1.2445 - val_acc: 0.5714\n",
      "Epoch 3/100\n",
      "2/2 [==============================] - 4s 3s/step - loss: 2.0831 - acc: 0.4318 - val_loss: 0.6986 - val_acc: 0.7143\n",
      "Epoch 4/100\n",
      "2/2 [==============================] - 4s 3s/step - loss: 1.8362 - acc: 0.5682 - val_loss: 0.4450 - val_acc: 0.8571\n",
      "Epoch 5/100\n",
      "2/2 [==============================] - 3s 1s/step - loss: 1.9939 - acc: 0.5455 - val_loss: 0.3248 - val_acc: 0.8571\n",
      "Epoch 6/100\n",
      "2/2 [==============================] - 3s 2s/step - loss: 1.4718 - acc: 0.5909 - val_loss: 0.2533 - val_acc: 0.8571\n",
      "Epoch 7/100\n",
      "2/2 [==============================] - 4s 3s/step - loss: 1.4264 - acc: 0.5909 - val_loss: 0.2021 - val_acc: 1.0000\n",
      "Epoch 8/100\n",
      "2/2 [==============================] - 3s 2s/step - loss: 0.9750 - acc: 0.7045 - val_loss: 0.1675 - val_acc: 1.0000\n",
      "Epoch 9/100\n",
      "2/2 [==============================] - 3s 958ms/step - loss: 0.8855 - acc: 0.7045 - val_loss: 0.1468 - val_acc: 1.0000\n",
      "Epoch 10/100\n",
      "2/2 [==============================] - 3s 1s/step - loss: 0.8101 - acc: 0.7955 - val_loss: 0.1354 - val_acc: 1.0000\n",
      "Epoch 11/100\n",
      "2/2 [==============================] - 3s 1s/step - loss: 0.7250 - acc: 0.7273 - val_loss: 0.1279 - val_acc: 1.0000\n",
      "Epoch 12/100\n",
      "2/2 [==============================] - 4s 1s/step - loss: 0.6601 - acc: 0.7955 - val_loss: 0.1189 - val_acc: 1.0000\n",
      "Epoch 13/100\n",
      "2/2 [==============================] - 4s 3s/step - loss: 0.5299 - acc: 0.9091 - val_loss: 0.1101 - val_acc: 1.0000\n",
      "Epoch 14/100\n",
      "2/2 [==============================] - 3s 1s/step - loss: 0.5614 - acc: 0.8636 - val_loss: 0.0999 - val_acc: 1.0000\n",
      "Epoch 15/100\n",
      "2/2 [==============================] - 4s 3s/step - loss: 0.4679 - acc: 0.8636 - val_loss: 0.0874 - val_acc: 1.0000\n",
      "Epoch 16/100\n",
      "2/2 [==============================] - 4s 1s/step - loss: 0.4653 - acc: 0.9091 - val_loss: 0.0752 - val_acc: 1.0000\n",
      "Epoch 17/100\n",
      "2/2 [==============================] - 3s 1s/step - loss: 0.3975 - acc: 0.9318 - val_loss: 0.0638 - val_acc: 1.0000\n",
      "Epoch 18/100\n",
      "2/2 [==============================] - 4s 1s/step - loss: 0.3763 - acc: 0.9091 - val_loss: 0.0545 - val_acc: 1.0000\n",
      "Epoch 19/100\n",
      "2/2 [==============================] - 4s 3s/step - loss: 0.2502 - acc: 1.0000 - val_loss: 0.0469 - val_acc: 1.0000\n",
      "Epoch 20/100\n",
      "2/2 [==============================] - 3s 979ms/step - loss: 0.2601 - acc: 0.9773 - val_loss: 0.0407 - val_acc: 1.0000\n",
      "Epoch 21/100\n",
      "2/2 [==============================] - 3s 977ms/step - loss: 0.2072 - acc: 1.0000 - val_loss: 0.0357 - val_acc: 1.0000\n",
      "Epoch 22/100\n",
      "2/2 [==============================] - 5s 4s/step - loss: 0.2027 - acc: 1.0000 - val_loss: 0.0317 - val_acc: 1.0000\n",
      "Epoch 23/100\n",
      "2/2 [==============================] - 4s 3s/step - loss: 0.1787 - acc: 1.0000 - val_loss: 0.0284 - val_acc: 1.0000\n",
      "Epoch 24/100\n",
      "2/2 [==============================] - 5s 4s/step - loss: 0.1380 - acc: 1.0000 - val_loss: 0.0255 - val_acc: 1.0000\n",
      "Epoch 25/100\n",
      "2/2 [==============================] - 3s 3s/step - loss: 0.2061 - acc: 0.9773 - val_loss: 0.0232 - val_acc: 1.0000\n",
      "Epoch 26/100\n",
      "2/2 [==============================] - 3s 1s/step - loss: 0.1530 - acc: 0.9773 - val_loss: 0.0214 - val_acc: 1.0000\n",
      "Epoch 27/100\n",
      "2/2 [==============================] - 4s 2s/step - loss: 0.1612 - acc: 0.9773 - val_loss: 0.0199 - val_acc: 1.0000\n",
      "Epoch 28/100\n",
      "2/2 [==============================] - 3s 995ms/step - loss: 0.1691 - acc: 0.9773 - val_loss: 0.0188 - val_acc: 1.0000\n",
      "Epoch 29/100\n",
      "2/2 [==============================] - 3s 3s/step - loss: 0.1512 - acc: 1.0000 - val_loss: 0.0168 - val_acc: 1.0000\n",
      "Epoch 30/100\n",
      "2/2 [==============================] - 3s 3s/step - loss: 0.0879 - acc: 1.0000 - val_loss: 0.0153 - val_acc: 1.0000\n",
      "Epoch 31/100\n",
      "2/2 [==============================] - 3s 1s/step - loss: 0.1235 - acc: 0.9773 - val_loss: 0.0141 - val_acc: 1.0000\n",
      "Epoch 32/100\n",
      "2/2 [==============================] - 3s 2s/step - loss: 0.1276 - acc: 1.0000 - val_loss: 0.0135 - val_acc: 1.0000\n",
      "Epoch 33/100\n",
      "2/2 [==============================] - 3s 1s/step - loss: 0.1132 - acc: 1.0000 - val_loss: 0.0130 - val_acc: 1.0000\n",
      "Epoch 34/100\n",
      "2/2 [==============================] - 4s 1s/step - loss: 0.0789 - acc: 1.0000 - val_loss: 0.0125 - val_acc: 1.0000\n",
      "Epoch 35/100\n",
      "2/2 [==============================] - 3s 1s/step - loss: 0.0906 - acc: 1.0000 - val_loss: 0.0120 - val_acc: 1.0000\n",
      "Epoch 36/100\n",
      "2/2 [==============================] - 3s 3s/step - loss: 0.0667 - acc: 1.0000 - val_loss: 0.0116 - val_acc: 1.0000\n",
      "Epoch 37/100\n",
      "2/2 [==============================] - 3s 965ms/step - loss: 0.1006 - acc: 1.0000 - val_loss: 0.0112 - val_acc: 1.0000\n",
      "Epoch 38/100\n",
      "2/2 [==============================] - 4s 3s/step - loss: 0.0579 - acc: 1.0000 - val_loss: 0.0109 - val_acc: 1.0000\n",
      "Epoch 39/100\n",
      "2/2 [==============================] - 3s 971ms/step - loss: 0.0728 - acc: 1.0000 - val_loss: 0.0104 - val_acc: 1.0000\n",
      "Epoch 40/100\n",
      "2/2 [==============================] - 3s 975ms/step - loss: 0.0750 - acc: 1.0000 - val_loss: 0.0098 - val_acc: 1.0000\n",
      "Epoch 41/100\n",
      "2/2 [==============================] - 3s 980ms/step - loss: 0.1043 - acc: 0.9773 - val_loss: 0.0093 - val_acc: 1.0000\n",
      "Epoch 42/100\n",
      "2/2 [==============================] - 3s 2s/step - loss: 0.0898 - acc: 0.9773 - val_loss: 0.0089 - val_acc: 1.0000\n",
      "Epoch 43/100\n",
      "2/2 [==============================] - 3s 3s/step - loss: 0.0882 - acc: 0.9773 - val_loss: 0.0086 - val_acc: 1.0000\n",
      "Epoch 44/100\n",
      "2/2 [==============================] - 3s 2s/step - loss: 0.0626 - acc: 1.0000 - val_loss: 0.0083 - val_acc: 1.0000\n",
      "Epoch 45/100\n",
      "2/2 [==============================] - 3s 1s/step - loss: 0.0765 - acc: 1.0000 - val_loss: 0.0081 - val_acc: 1.0000\n",
      "Epoch 46/100\n",
      "2/2 [==============================] - 3s 988ms/step - loss: 0.0392 - acc: 1.0000 - val_loss: 0.0078 - val_acc: 1.0000\n",
      "Epoch 47/100\n",
      "2/2 [==============================] - 3s 3s/step - loss: 0.0551 - acc: 1.0000 - val_loss: 0.0076 - val_acc: 1.0000\n",
      "Epoch 48/100\n",
      "2/2 [==============================] - 4s 1s/step - loss: 0.0737 - acc: 1.0000 - val_loss: 0.0074 - val_acc: 1.0000\n",
      "Epoch 49/100\n",
      "2/2 [==============================] - 3s 3s/step - loss: 0.0427 - acc: 1.0000 - val_loss: 0.0072 - val_acc: 1.0000\n",
      "Epoch 50/100\n",
      "2/2 [==============================] - 3s 1s/step - loss: 0.0494 - acc: 1.0000 - val_loss: 0.0071 - val_acc: 1.0000\n",
      "Epoch 51/100\n",
      "2/2 [==============================] - 3s 2s/step - loss: 0.0744 - acc: 1.0000 - val_loss: 0.0070 - val_acc: 1.0000\n",
      "Epoch 52/100\n",
      "2/2 [==============================] - 3s 2s/step - loss: 0.0307 - acc: 1.0000 - val_loss: 0.0069 - val_acc: 1.0000\n",
      "Epoch 53/100\n",
      "2/2 [==============================] - 4s 2s/step - loss: 0.0631 - acc: 1.0000 - val_loss: 0.0067 - val_acc: 1.0000\n",
      "Epoch 54/100\n",
      "2/2 [==============================] - 4s 3s/step - loss: 0.0672 - acc: 0.9773 - val_loss: 0.0064 - val_acc: 1.0000\n",
      "Epoch 55/100\n",
      "2/2 [==============================] - 4s 1s/step - loss: 0.0518 - acc: 1.0000 - val_loss: 0.0063 - val_acc: 1.0000\n",
      "Epoch 56/100\n",
      "2/2 [==============================] - 4s 3s/step - loss: 0.0367 - acc: 1.0000 - val_loss: 0.0061 - val_acc: 1.0000\n",
      "Epoch 57/100\n",
      "2/2 [==============================] - 4s 1s/step - loss: 0.0424 - acc: 1.0000 - val_loss: 0.0060 - val_acc: 1.0000\n",
      "Epoch 58/100\n",
      "2/2 [==============================] - 4s 1s/step - loss: 0.0485 - acc: 1.0000 - val_loss: 0.0059 - val_acc: 1.0000\n",
      "Epoch 59/100\n",
      "2/2 [==============================] - 3s 1s/step - loss: 0.0422 - acc: 1.0000 - val_loss: 0.0057 - val_acc: 1.0000\n",
      "Epoch 60/100\n",
      "2/2 [==============================] - 3s 3s/step - loss: 0.0393 - acc: 1.0000 - val_loss: 0.0056 - val_acc: 1.0000\n",
      "Epoch 61/100\n",
      "2/2 [==============================] - 3s 2s/step - loss: 0.0320 - acc: 1.0000 - val_loss: 0.0054 - val_acc: 1.0000\n",
      "Epoch 62/100\n",
      "2/2 [==============================] - 3s 2s/step - loss: 0.0359 - acc: 1.0000 - val_loss: 0.0053 - val_acc: 1.0000\n",
      "Epoch 63/100\n",
      "2/2 [==============================] - 3s 962ms/step - loss: 0.0264 - acc: 1.0000 - val_loss: 0.0052 - val_acc: 1.0000\n",
      "Epoch 64/100\n"
     ]
    },
    {
     "name": "stdout",
     "output_type": "stream",
     "text": [
      "2/2 [==============================] - 3s 2s/step - loss: 0.0281 - acc: 1.0000 - val_loss: 0.0051 - val_acc: 1.0000\n",
      "Epoch 65/100\n",
      "2/2 [==============================] - 3s 2s/step - loss: 0.0394 - acc: 1.0000 - val_loss: 0.0050 - val_acc: 1.0000\n",
      "Epoch 66/100\n",
      "2/2 [==============================] - 4s 2s/step - loss: 0.0342 - acc: 1.0000 - val_loss: 0.0049 - val_acc: 1.0000\n",
      "Epoch 67/100\n",
      "2/2 [==============================] - 3s 990ms/step - loss: 0.0283 - acc: 1.0000 - val_loss: 0.0049 - val_acc: 1.0000\n",
      "Epoch 68/100\n",
      "2/2 [==============================] - 3s 970ms/step - loss: 0.0325 - acc: 1.0000 - val_loss: 0.0048 - val_acc: 1.0000\n",
      "Epoch 69/100\n",
      "2/2 [==============================] - 3s 952ms/step - loss: 0.0332 - acc: 1.0000 - val_loss: 0.0047 - val_acc: 1.0000\n",
      "Epoch 70/100\n",
      "2/2 [==============================] - 4s 1s/step - loss: 0.0319 - acc: 1.0000 - val_loss: 0.0047 - val_acc: 1.0000\n",
      "Epoch 71/100\n",
      "2/2 [==============================] - 4s 972ms/step - loss: 0.0326 - acc: 1.0000 - val_loss: 0.0046 - val_acc: 1.0000\n",
      "Epoch 72/100\n",
      "2/2 [==============================] - 4s 2s/step - loss: 0.0225 - acc: 1.0000 - val_loss: 0.0045 - val_acc: 1.0000\n",
      "Epoch 73/100\n",
      "2/2 [==============================] - 3s 1s/step - loss: 0.0324 - acc: 1.0000 - val_loss: 0.0044 - val_acc: 1.0000\n",
      "Epoch 74/100\n",
      "2/2 [==============================] - 3s 2s/step - loss: 0.0462 - acc: 1.0000 - val_loss: 0.0043 - val_acc: 1.0000\n",
      "Epoch 75/100\n",
      "2/2 [==============================] - 3s 1s/step - loss: 0.0234 - acc: 1.0000 - val_loss: 0.0042 - val_acc: 1.0000\n",
      "Epoch 76/100\n",
      "2/2 [==============================] - 4s 3s/step - loss: 0.0210 - acc: 1.0000 - val_loss: 0.0041 - val_acc: 1.0000\n",
      "Epoch 77/100\n",
      "2/2 [==============================] - 4s 3s/step - loss: 0.0175 - acc: 1.0000 - val_loss: 0.0040 - val_acc: 1.0000\n",
      "Epoch 78/100\n",
      "2/2 [==============================] - 3s 2s/step - loss: 0.0198 - acc: 1.0000 - val_loss: 0.0039 - val_acc: 1.0000\n",
      "Epoch 79/100\n",
      "2/2 [==============================] - 4s 3s/step - loss: 0.0249 - acc: 1.0000 - val_loss: 0.0039 - val_acc: 1.0000\n",
      "Epoch 80/100\n",
      "2/2 [==============================] - 4s 1s/step - loss: 0.0163 - acc: 1.0000 - val_loss: 0.0039 - val_acc: 1.0000\n",
      "Epoch 81/100\n",
      "2/2 [==============================] - 3s 2s/step - loss: 0.0206 - acc: 1.0000 - val_loss: 0.0038 - val_acc: 1.0000\n",
      "Epoch 82/100\n",
      "2/2 [==============================] - 3s 1s/step - loss: 0.0139 - acc: 1.0000 - val_loss: 0.0038 - val_acc: 1.0000\n",
      "Epoch 83/100\n",
      "2/2 [==============================] - 3s 2s/step - loss: 0.0175 - acc: 1.0000 - val_loss: 0.0038 - val_acc: 1.0000\n",
      "Epoch 84/100\n",
      "2/2 [==============================] - 3s 1s/step - loss: 0.0260 - acc: 1.0000 - val_loss: 0.0037 - val_acc: 1.0000\n",
      "Epoch 85/100\n",
      "2/2 [==============================] - 3s 997ms/step - loss: 0.0245 - acc: 1.0000 - val_loss: 0.0037 - val_acc: 1.0000\n",
      "Epoch 86/100\n",
      "2/2 [==============================] - 3s 3s/step - loss: 0.0231 - acc: 1.0000 - val_loss: 0.0036 - val_acc: 1.0000\n",
      "Epoch 87/100\n",
      "2/2 [==============================] - 3s 2s/step - loss: 0.0239 - acc: 1.0000 - val_loss: 0.0035 - val_acc: 1.0000\n",
      "Epoch 88/100\n",
      "2/2 [==============================] - 4s 2s/step - loss: 0.0123 - acc: 1.0000 - val_loss: 0.0035 - val_acc: 1.0000\n",
      "Epoch 89/100\n",
      "2/2 [==============================] - 4s 3s/step - loss: 0.0164 - acc: 1.0000 - val_loss: 0.0034 - val_acc: 1.0000\n",
      "Epoch 90/100\n",
      "2/2 [==============================] - 4s 974ms/step - loss: 0.0151 - acc: 1.0000 - val_loss: 0.0033 - val_acc: 1.0000\n",
      "Epoch 91/100\n",
      "2/2 [==============================] - 3s 2s/step - loss: 0.0168 - acc: 1.0000 - val_loss: 0.0033 - val_acc: 1.0000\n",
      "Epoch 92/100\n",
      "2/2 [==============================] - 3s 949ms/step - loss: 0.0172 - acc: 1.0000 - val_loss: 0.0032 - val_acc: 1.0000\n",
      "Epoch 93/100\n",
      "2/2 [==============================] - 4s 2s/step - loss: 0.0236 - acc: 1.0000 - val_loss: 0.0032 - val_acc: 1.0000\n",
      "Epoch 94/100\n",
      "2/2 [==============================] - 5s 4s/step - loss: 0.0149 - acc: 1.0000 - val_loss: 0.0032 - val_acc: 1.0000\n",
      "Epoch 95/100\n",
      "2/2 [==============================] - 4s 1s/step - loss: 0.0179 - acc: 1.0000 - val_loss: 0.0032 - val_acc: 1.0000\n",
      "Epoch 96/100\n",
      "2/2 [==============================] - 7s 1s/step - loss: 0.0147 - acc: 1.0000 - val_loss: 0.0031 - val_acc: 1.0000\n",
      "Epoch 97/100\n",
      "2/2 [==============================] - 5s 3s/step - loss: 0.0157 - acc: 1.0000 - val_loss: 0.0031 - val_acc: 1.0000\n",
      "Epoch 98/100\n",
      "2/2 [==============================] - 4s 1s/step - loss: 0.0142 - acc: 1.0000 - val_loss: 0.0030 - val_acc: 1.0000\n",
      "Epoch 99/100\n",
      "2/2 [==============================] - 5s 3s/step - loss: 0.0275 - acc: 1.0000 - val_loss: 0.0031 - val_acc: 1.0000\n",
      "Epoch 100/100\n",
      "2/2 [==============================] - 4s 1s/step - loss: 0.0270 - acc: 1.0000 - val_loss: 0.0031 - val_acc: 1.0000\n"
     ]
    }
   ],
   "source": [
    "optimizer = tf.keras.optimizers.Adam(lr=1e-3)\n",
    "model.compile(\n",
    "  optimizer=optimizer,\n",
    "  loss='categorical_crossentropy',\n",
    "  metrics=['acc'])\n",
    "steps_per_epoch = np.ceil(train_generator.samples/train_generator.batch_size)\n",
    "val_steps_per_epoch = np.ceil(valid_generator.samples/valid_generator.batch_size)\n",
    "\n",
    "hist = model.fit(\n",
    "    train_generator, \n",
    "    epochs=100,\n",
    "    verbose=1,\n",
    "    steps_per_epoch=steps_per_epoch,\n",
    "    validation_data=valid_generator,\n",
    "    validation_steps=val_steps_per_epoch).history"
   ]
  },
  {
   "cell_type": "code",
   "execution_count": 51,
   "metadata": {},
   "outputs": [
    {
     "ename": "ModuleNotFoundError",
     "evalue": "No module named 'cv2'",
     "output_type": "error",
     "traceback": [
      "\u001b[1;31m---------------------------------------------------------------------------\u001b[0m",
      "\u001b[1;31mModuleNotFoundError\u001b[0m                       Traceback (most recent call last)",
      "\u001b[1;32m<ipython-input-51-c8ec22b3e787>\u001b[0m in \u001b[0;36m<module>\u001b[1;34m\u001b[0m\n\u001b[1;32m----> 1\u001b[1;33m \u001b[1;32mimport\u001b[0m \u001b[0mcv2\u001b[0m\u001b[1;33m\u001b[0m\u001b[1;33m\u001b[0m\u001b[0m\n\u001b[0m",
      "\u001b[1;31mModuleNotFoundError\u001b[0m: No module named 'cv2'"
     ]
    }
   ],
   "source": [
    "import cv2"
   ]
  },
  {
   "cell_type": "code",
   "execution_count": 50,
   "metadata": {},
   "outputs": [
    {
     "ename": "ValueError",
     "evalue": "cannot reshape array of size 3557760 into shape (224,224,3)",
     "output_type": "error",
     "traceback": [
      "\u001b[1;31m---------------------------------------------------------------------------\u001b[0m",
      "\u001b[1;31mValueError\u001b[0m                                Traceback (most recent call last)",
      "\u001b[1;32m<ipython-input-50-abc22a1d35c7>\u001b[0m in \u001b[0;36m<module>\u001b[1;34m\u001b[0m\n\u001b[0;32m      1\u001b[0m \u001b[0mimg\u001b[0m\u001b[1;33m=\u001b[0m \u001b[0mImage\u001b[0m\u001b[1;33m.\u001b[0m\u001b[0mopen\u001b[0m\u001b[1;33m(\u001b[0m\u001b[1;34m\"../Datasets/Ethane/Ethane.jpeg\"\u001b[0m\u001b[1;33m)\u001b[0m\u001b[1;33m\u001b[0m\u001b[1;33m\u001b[0m\u001b[0m\n\u001b[0;32m      2\u001b[0m \u001b[0mnpimg\u001b[0m \u001b[1;33m=\u001b[0m \u001b[0mnp\u001b[0m\u001b[1;33m.\u001b[0m\u001b[0marray\u001b[0m\u001b[1;33m(\u001b[0m\u001b[0mimg\u001b[0m\u001b[1;33m)\u001b[0m\u001b[1;33m\u001b[0m\u001b[1;33m\u001b[0m\u001b[0m\n\u001b[1;32m----> 3\u001b[1;33m \u001b[0mnpimg2\u001b[0m \u001b[1;33m=\u001b[0m \u001b[0mnpimg\u001b[0m\u001b[1;33m.\u001b[0m\u001b[0mreshape\u001b[0m\u001b[1;33m(\u001b[0m\u001b[1;36m224\u001b[0m\u001b[1;33m,\u001b[0m \u001b[1;36m224\u001b[0m\u001b[1;33m,\u001b[0m \u001b[1;36m3\u001b[0m\u001b[1;33m)\u001b[0m\u001b[1;33m\u001b[0m\u001b[1;33m\u001b[0m\u001b[0m\n\u001b[0m\u001b[0;32m      4\u001b[0m \u001b[0mprint\u001b[0m\u001b[1;33m(\u001b[0m\u001b[0mnpimg\u001b[0m\u001b[1;33m.\u001b[0m\u001b[0mshape\u001b[0m\u001b[1;33m)\u001b[0m\u001b[1;33m\u001b[0m\u001b[1;33m\u001b[0m\u001b[0m\n\u001b[0;32m      5\u001b[0m \u001b[1;31m# print(npimg2.shape)\u001b[0m\u001b[1;33m\u001b[0m\u001b[1;33m\u001b[0m\u001b[1;33m\u001b[0m\u001b[0m\n",
      "\u001b[1;31mValueError\u001b[0m: cannot reshape array of size 3557760 into shape (224,224,3)"
     ]
    }
   ],
   "source": [
    "img = cv2.imread(\"../Datasets/Ethane/Ethane.jpeg\")\n",
    "res=cv2.resize(img ,dsize=(224,224,3), interpolation=cv2.INTER_CUBIC)\n",
    "npimg=np.array(res)\n",
    "print(npimage.shape)\n",
    "\n",
    "\n",
    "\n",
    "\n",
    "# img= Image.open(\"../Datasets/Ethane/Ethane.jpeg\")\n",
    "# npimg = np.array(img)\n",
    "# npimg2 = npimg.reshape(224, 224, 3)\n",
    "# print(npimg.shape)\n",
    "# print(npimg2.shape)\n",
    "\n",
    "# tf_model_predictions = model.predict(img)\n",
    "# print(\"Prediction results shape:\", tf_model_predictions.shape)\n",
    "\n",
    "val_image_batch, val_label_batch = next(iter(valid_generator))\n",
    "true_label_ids = np.argmax(val_label_batch, axis=-1)\n",
    "\n",
    "print(\"here\")\n",
    "#print(val_image_batch)\n",
    "print(val_image_batch.shape)\n",
    "dataset_labels = sorted(train_generator.class_indices.items(), key=lambda pair:pair[1])\n",
    "dataset_labels = np.array([key.title() for key, value in dataset_labels])\n",
    "\n",
    "\n",
    "tf_model_predictions = model.predict(val_image_batch)\n",
    "print(\"Prediction results shape:\", tf_model_predictions.shape)\n",
    "\n",
    "\n"
   ]
  },
  {
   "cell_type": "code",
   "execution_count": null,
   "metadata": {},
   "outputs": [],
   "source": [
    "pickle.dump(classi, open('model.pkl','wb'))"
   ]
  }
 ],
 "metadata": {
  "kernelspec": {
   "display_name": "Python 3",
   "language": "python",
   "name": "python3"
  },
  "language_info": {
   "codemirror_mode": {
    "name": "ipython",
    "version": 3
   },
   "file_extension": ".py",
   "mimetype": "text/x-python",
   "name": "python",
   "nbconvert_exporter": "python",
   "pygments_lexer": "ipython3",
   "version": "3.8.5"
  }
 },
 "nbformat": 4,
 "nbformat_minor": 4
}
