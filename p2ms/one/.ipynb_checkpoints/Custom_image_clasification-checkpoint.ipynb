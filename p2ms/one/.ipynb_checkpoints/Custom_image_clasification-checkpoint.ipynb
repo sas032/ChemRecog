{
 "cells": [
  {
   "cell_type": "code",
   "execution_count": 1,
   "metadata": {
    "colab": {},
    "colab_type": "code",
    "id": "SfVqsrCAq033"
   },
   "outputs": [],
   "source": [
    "import os\n",
    "from shutil import copy2\n",
    "import csv"
   ]
  },
  {
   "cell_type": "code",
   "execution_count": 2,
   "metadata": {
    "colab": {},
    "colab_type": "code",
    "id": "RzzvPCdWq5XZ"
   },
   "outputs": [],
   "source": [
    "from __future__ import absolute_import, division, print_function, unicode_literals\n",
    "\n",
    "try:\n",
    "  # The %tensorflow_version magic only works in colab.\n",
    "  %tensorflow_version 2.x\n",
    "except Exception:\n",
    "  pass\n",
    "import tensorflow as tf\n",
    "\n",
    "import os\n",
    "import numpy as np\n",
    "import matplotlib.pyplot as plt"
   ]
  },
  {
   "cell_type": "code",
   "execution_count": 3,
   "metadata": {
    "colab": {},
    "colab_type": "code",
    "id": "pGB8rH8trecP"
   },
   "outputs": [
    {
     "name": "stdout",
     "output_type": "stream",
     "text": [
      "Requirement already satisfied: tensorflow_hub in c:\\users\\user\\anaconda3\\envs\\tensor\\lib\\site-packages (0.8.0)\n",
      "Requirement already satisfied: protobuf>=3.8.0 in c:\\users\\user\\anaconda3\\envs\\tensor\\lib\\site-packages (from tensorflow_hub) (3.14.0)\n",
      "Requirement already satisfied: six>=1.12.0 in c:\\users\\user\\anaconda3\\envs\\tensor\\lib\\site-packages (from tensorflow_hub) (1.15.0)\n",
      "Requirement already satisfied: numpy>=1.12.0 in c:\\users\\user\\anaconda3\\envs\\tensor\\lib\\site-packages (from tensorflow_hub) (1.20.1)\n"
     ]
    }
   ],
   "source": [
    "!pip install tensorflow_hub"
   ]
  },
  {
   "cell_type": "code",
   "execution_count": 4,
   "metadata": {
    "colab": {},
    "colab_type": "code",
    "id": "FXt9rLUuFI5B"
   },
   "outputs": [],
   "source": [
    "import tensorflow_hub as hub"
   ]
  },
  {
   "cell_type": "code",
   "execution_count": 5,
   "metadata": {
    "colab": {},
    "colab_type": "code",
    "id": "-y5ROM_6FLHl"
   },
   "outputs": [
    {
     "data": {
      "text/plain": [
       "'2.3.0'"
      ]
     },
     "execution_count": 5,
     "metadata": {},
     "output_type": "execute_result"
    }
   ],
   "source": [
    "tf.__version__"
   ]
  },
  {
   "cell_type": "code",
   "execution_count": 6,
   "metadata": {
    "colab": {},
    "colab_type": "code",
    "id": "35_iMApcFRMg"
   },
   "outputs": [],
   "source": [
    "import pandas as pd\n",
    "\n",
    "# Increase precision of presented data for better side-by-side comparison\n",
    "pd.set_option(\"display.precision\", 8)"
   ]
  },
  {
   "cell_type": "code",
   "execution_count": 7,
   "metadata": {
    "colab": {},
    "colab_type": "code",
    "id": "2bdsezDTFUXQ"
   },
   "outputs": [],
   "source": [
    "data_root = (\"../Datasets/\")"
   ]
  },
  {
   "cell_type": "code",
   "execution_count": 8,
   "metadata": {
    "colab": {},
    "colab_type": "code",
    "id": "5rNgw-IyFzcY"
   },
   "outputs": [
    {
     "name": "stdout",
     "output_type": "stream",
     "text": [
      "Found 7 images belonging to 16 classes.\n",
      "Found 44 images belonging to 16 classes.\n"
     ]
    }
   ],
   "source": [
    "IMAGE_SHAPE = (224, 224)\n",
    "TRAINING_DATA_DIR = str(data_root)\n",
    "\n",
    "datagen_kwargs = dict(rescale=1./255, validation_split=.20)\n",
    "valid_datagen = tf.keras.preprocessing.image.ImageDataGenerator(**datagen_kwargs)\n",
    "valid_generator = valid_datagen.flow_from_directory(\n",
    "    TRAINING_DATA_DIR, \n",
    "    subset=\"validation\", \n",
    "    shuffle=True,\n",
    "    target_size=IMAGE_SHAPE\n",
    ")\n",
    "\n",
    "train_datagen = tf.keras.preprocessing.image.ImageDataGenerator(**datagen_kwargs)\n",
    "train_generator = train_datagen.flow_from_directory(\n",
    "    TRAINING_DATA_DIR, \n",
    "    subset=\"training\", \n",
    "    shuffle=True,\n",
    "    target_size=IMAGE_SHAPE)"
   ]
  },
  {
   "cell_type": "code",
   "execution_count": 9,
   "metadata": {
    "colab": {},
    "colab_type": "code",
    "id": "8Bg0xKAnGEWV"
   },
   "outputs": [
    {
     "data": {
      "text/plain": [
       "((32, 224, 224, 3), (32, 16))"
      ]
     },
     "execution_count": 9,
     "metadata": {},
     "output_type": "execute_result"
    }
   ],
   "source": [
    "for image_batch, label_batch in train_generator:\n",
    "  break\n",
    "image_batch.shape, label_batch.shape"
   ]
  },
  {
   "cell_type": "code",
   "execution_count": 10,
   "metadata": {
    "colab": {},
    "colab_type": "code",
    "id": "P645UYzUGLEF"
   },
   "outputs": [
    {
     "name": "stdout",
     "output_type": "stream",
     "text": [
      "{'Adrenaline': 0, 'Ethane': 1, 'Ethene': 2, 'Ethylene': 3, 'Isopentane': 4, 'M-xykene (1,3 - dimethylbenzene)': 5, 'Neopentane': 6, 'P-xylene (1,4 - dimethylbenzene)': 7, 'Phenylalanine': 8, 'Propylene': 9, 'acetaminophen': 10, 'acetylsalicylic': 11, 'benzene': 12, 'ibuprofen': 13, 'o-xylene (1,2 - dimethylbenzene)': 14, 'unknown': 15}\n"
     ]
    }
   ],
   "source": [
    "print (train_generator.class_indices)\n",
    "\n",
    "labels = '\\n'.join(sorted(train_generator.class_indices.keys()))\n",
    "\n",
    "with open('labels.txt', 'w') as f:\n",
    "  f.write(labels)"
   ]
  },
  {
   "cell_type": "code",
   "execution_count": 11,
   "metadata": {
    "colab": {},
    "colab_type": "code",
    "id": "0F75KwUvGRMv"
   },
   "outputs": [
    {
     "name": "stderr",
     "output_type": "stream",
     "text": [
      "'cat' is not recognized as an internal or external command,\n",
      "operable program or batch file.\n"
     ]
    }
   ],
   "source": [
    "!cat labels.txt"
   ]
  },
  {
   "cell_type": "code",
   "execution_count": 12,
   "metadata": {
    "colab": {},
    "colab_type": "code",
    "id": "MFNnREvqGbG4"
   },
   "outputs": [],
   "source": [
    "IMAGE_SIZE = 224"
   ]
  },
  {
   "cell_type": "code",
   "execution_count": 13,
   "metadata": {
    "colab": {},
    "colab_type": "code",
    "id": "XZqfkQllGe0L"
   },
   "outputs": [
    {
     "name": "stdout",
     "output_type": "stream",
     "text": [
      "WARNING:tensorflow:AutoGraph could not transform <bound method KerasLayer.call of <tensorflow_hub.keras_layer.KerasLayer object at 0x000001314F6B9970>> and will run it as-is.\n",
      "Please report this to the TensorFlow team. When filing the bug, set the verbosity to 10 (on Linux, `export AUTOGRAPH_VERBOSITY=10`) and attach the full output.\n",
      "Cause: module 'gast' has no attribute 'Index'\n",
      "To silence this warning, decorate the function with @tf.autograph.experimental.do_not_convert\n"
     ]
    },
    {
     "name": "stderr",
     "output_type": "stream",
     "text": [
      "WARNING:tensorflow:AutoGraph could not transform <bound method KerasLayer.call of <tensorflow_hub.keras_layer.KerasLayer object at 0x000001314F6B9970>> and will run it as-is.\n",
      "Please report this to the TensorFlow team. When filing the bug, set the verbosity to 10 (on Linux, `export AUTOGRAPH_VERBOSITY=10`) and attach the full output.\n",
      "Cause: module 'gast' has no attribute 'Index'\n",
      "To silence this warning, decorate the function with @tf.autograph.experimental.do_not_convert\n"
     ]
    },
    {
     "name": "stdout",
     "output_type": "stream",
     "text": [
      "WARNING: AutoGraph could not transform <bound method KerasLayer.call of <tensorflow_hub.keras_layer.KerasLayer object at 0x000001314F6B9970>> and will run it as-is.\n",
      "Please report this to the TensorFlow team. When filing the bug, set the verbosity to 10 (on Linux, `export AUTOGRAPH_VERBOSITY=10`) and attach the full output.\n",
      "Cause: module 'gast' has no attribute 'Index'\n",
      "To silence this warning, decorate the function with @tf.autograph.experimental.do_not_convert\n",
      "Model: \"sequential\"\n",
      "_________________________________________________________________\n",
      "Layer (type)                 Output Shape              Param #   \n",
      "=================================================================\n",
      "keras_layer (KerasLayer)     (None, 1280)              2257984   \n",
      "_________________________________________________________________\n",
      "dropout (Dropout)            (None, 1280)              0         \n",
      "_________________________________________________________________\n",
      "dense (Dense)                (None, 16)                20496     \n",
      "=================================================================\n",
      "Total params: 2,278,480\n",
      "Trainable params: 20,496\n",
      "Non-trainable params: 2,257,984\n",
      "_________________________________________________________________\n"
     ]
    }
   ],
   "source": [
    "model = tf.keras.Sequential([\n",
    "  hub.KerasLayer(\"https://tfhub.dev/google/tf2-preview/mobilenet_v2/feature_vector/4\", \n",
    "                 output_shape=[1280],\n",
    "                 trainable=False),\n",
    "  tf.keras.layers.Dropout(0.4),\n",
    "  tf.keras.layers.Dense(train_generator.num_classes, activation='softmax')\n",
    "])\n",
    "model.build([None, 224, 224, 3])\n",
    "\n",
    "model.summary()"
   ]
  },
  {
   "cell_type": "code",
   "execution_count": 14,
   "metadata": {
    "colab": {},
    "colab_type": "code",
    "id": "R7za6jFDG10A"
   },
   "outputs": [],
   "source": [
    "optimizer = tf.keras.optimizers.Adam(lr=1e-3)"
   ]
  },
  {
   "cell_type": "code",
   "execution_count": 15,
   "metadata": {
    "colab": {},
    "colab_type": "code",
    "id": "QPiP6C70GhSf"
   },
   "outputs": [],
   "source": [
    "model.compile(\n",
    "  optimizer=optimizer,\n",
    "  loss='categorical_crossentropy',\n",
    "  metrics=['acc'])"
   ]
  },
  {
   "cell_type": "code",
   "execution_count": null,
   "metadata": {
    "colab": {},
    "colab_type": "code",
    "id": "xfti_jBLGn_E"
   },
   "outputs": [
    {
     "name": "stdout",
     "output_type": "stream",
     "text": [
      "Epoch 1/100\n",
      "2/2 [==============================] - 1s 610ms/step - loss: 2.8569 - acc: 0.0682 - val_loss: 1.6894 - val_acc: 0.4286\n",
      "Epoch 2/100\n",
      "2/2 [==============================] - 1s 369ms/step - loss: 2.2205 - acc: 0.3409 - val_loss: 0.8730 - val_acc: 1.0000\n",
      "Epoch 3/100\n",
      "2/2 [==============================] - 0s 149ms/step - loss: 1.9081 - acc: 0.4773 - val_loss: 0.4243 - val_acc: 1.0000\n",
      "Epoch 4/100\n",
      "2/2 [==============================] - 1s 361ms/step - loss: 1.7080 - acc: 0.4773 - val_loss: 0.2359 - val_acc: 1.0000\n",
      "Epoch 5/100\n",
      "2/2 [==============================] - 1s 410ms/step - loss: 1.4069 - acc: 0.5909 - val_loss: 0.1549 - val_acc: 1.0000\n",
      "Epoch 6/100\n",
      "2/2 [==============================] - 1s 406ms/step - loss: 1.3267 - acc: 0.5909 - val_loss: 0.1121 - val_acc: 1.0000\n",
      "Epoch 7/100\n",
      "2/2 [==============================] - 0s 136ms/step - loss: 1.0557 - acc: 0.6136 - val_loss: 0.0849 - val_acc: 1.0000\n",
      "Epoch 8/100\n",
      "2/2 [==============================] - 0s 133ms/step - loss: 1.2083 - acc: 0.6591 - val_loss: 0.0676 - val_acc: 1.0000\n",
      "Epoch 9/100\n",
      "2/2 [==============================] - 1s 384ms/step - loss: 0.9236 - acc: 0.6591 - val_loss: 0.0576 - val_acc: 1.0000\n",
      "Epoch 10/100\n",
      "2/2 [==============================] - 0s 140ms/step - loss: 0.7871 - acc: 0.7273 - val_loss: 0.0518 - val_acc: 1.0000\n",
      "Epoch 11/100\n",
      "2/2 [==============================] - 0s 146ms/step - loss: 0.6336 - acc: 0.8182 - val_loss: 0.0480 - val_acc: 1.0000\n",
      "Epoch 12/100\n",
      "2/2 [==============================] - 1s 417ms/step - loss: 0.5808 - acc: 0.8636 - val_loss: 0.0434 - val_acc: 1.0000\n",
      "Epoch 13/100\n",
      "2/2 [==============================] - 1s 366ms/step - loss: 0.4979 - acc: 0.9091 - val_loss: 0.0399 - val_acc: 1.0000\n",
      "Epoch 14/100\n",
      "2/2 [==============================] - 0s 149ms/step - loss: 0.4290 - acc: 0.8864 - val_loss: 0.0371 - val_acc: 1.0000\n",
      "Epoch 15/100\n",
      "2/2 [==============================] - 0s 147ms/step - loss: 0.4368 - acc: 0.9091 - val_loss: 0.0347 - val_acc: 1.0000\n",
      "Epoch 16/100\n",
      "2/2 [==============================] - 0s 139ms/step - loss: 0.4284 - acc: 0.8636 - val_loss: 0.0326 - val_acc: 1.0000\n",
      "Epoch 17/100\n",
      "2/2 [==============================] - 0s 139ms/step - loss: 0.3229 - acc: 0.9318 - val_loss: 0.0314 - val_acc: 1.0000\n",
      "Epoch 18/100\n",
      "2/2 [==============================] - 1s 413ms/step - loss: 0.3754 - acc: 0.9318 - val_loss: 0.0309 - val_acc: 1.0000\n",
      "Epoch 19/100\n",
      "2/2 [==============================] - 0s 141ms/step - loss: 0.3097 - acc: 0.9318 - val_loss: 0.0300 - val_acc: 1.0000\n",
      "Epoch 20/100\n",
      "2/2 [==============================] - 0s 136ms/step - loss: 0.2905 - acc: 0.9318 - val_loss: 0.0288 - val_acc: 1.0000\n",
      "Epoch 21/100\n",
      "2/2 [==============================] - 1s 435ms/step - loss: 0.2602 - acc: 0.9545 - val_loss: 0.0269 - val_acc: 1.0000\n",
      "Epoch 22/100\n",
      "2/2 [==============================] - 0s 155ms/step - loss: 0.2160 - acc: 1.0000 - val_loss: 0.0247 - val_acc: 1.0000\n",
      "Epoch 23/100\n",
      "2/2 [==============================] - 0s 142ms/step - loss: 0.2336 - acc: 0.9773 - val_loss: 0.0229 - val_acc: 1.0000\n",
      "Epoch 24/100\n",
      "2/2 [==============================] - 1s 378ms/step - loss: 0.2350 - acc: 0.9773 - val_loss: 0.0209 - val_acc: 1.0000\n",
      "Epoch 25/100\n",
      "2/2 [==============================] - 1s 373ms/step - loss: 0.2045 - acc: 0.9773 - val_loss: 0.0187 - val_acc: 1.0000\n",
      "Epoch 26/100\n",
      "2/2 [==============================] - 1s 380ms/step - loss: 0.1338 - acc: 1.0000 - val_loss: 0.0169 - val_acc: 1.0000\n",
      "Epoch 27/100\n",
      "2/2 [==============================] - 1s 577ms/step - loss: 0.1366 - acc: 1.0000 - val_loss: 0.0152 - val_acc: 1.0000\n",
      "Epoch 28/100\n",
      "2/2 [==============================] - 0s 153ms/step - loss: 0.1370 - acc: 1.0000 - val_loss: 0.0136 - val_acc: 1.0000\n",
      "Epoch 29/100\n",
      "2/2 [==============================] - 1s 408ms/step - loss: 0.1518 - acc: 1.0000 - val_loss: 0.0121 - val_acc: 1.0000\n",
      "Epoch 30/100\n",
      "2/2 [==============================] - 0s 131ms/step - loss: 0.0971 - acc: 1.0000 - val_loss: 0.0109 - val_acc: 1.0000\n",
      "Epoch 31/100\n",
      "2/2 [==============================] - 1s 381ms/step - loss: 0.0991 - acc: 1.0000 - val_loss: 0.0099 - val_acc: 1.0000\n",
      "Epoch 32/100\n",
      "2/2 [==============================] - 1s 377ms/step - loss: 0.1054 - acc: 1.0000 - val_loss: 0.0092 - val_acc: 1.0000\n",
      "Epoch 33/100\n",
      "2/2 [==============================] - 1s 364ms/step - loss: 0.1128 - acc: 1.0000 - val_loss: 0.0089 - val_acc: 1.0000\n",
      "Epoch 34/100\n",
      "2/2 [==============================] - 0s 130ms/step - loss: 0.1053 - acc: 0.9773 - val_loss: 0.0087 - val_acc: 1.0000\n",
      "Epoch 35/100\n",
      "2/2 [==============================] - 0s 131ms/step - loss: 0.1225 - acc: 1.0000 - val_loss: 0.0087 - val_acc: 1.0000\n",
      "Epoch 36/100\n",
      "2/2 [==============================] - 1s 368ms/step - loss: 0.1299 - acc: 1.0000 - val_loss: 0.0087 - val_acc: 1.0000\n",
      "Epoch 37/100\n",
      "2/2 [==============================] - 0s 129ms/step - loss: 0.0726 - acc: 1.0000 - val_loss: 0.0086 - val_acc: 1.0000\n",
      "Epoch 38/100\n",
      "2/2 [==============================] - 1s 359ms/step - loss: 0.1034 - acc: 0.9773 - val_loss: 0.0085 - val_acc: 1.0000\n",
      "Epoch 39/100\n",
      "2/2 [==============================] - 1s 366ms/step - loss: 0.1180 - acc: 1.0000 - val_loss: 0.0083 - val_acc: 1.0000\n",
      "Epoch 40/100\n",
      "2/2 [==============================] - 0s 132ms/step - loss: 0.0637 - acc: 1.0000 - val_loss: 0.0080 - val_acc: 1.0000\n",
      "Epoch 41/100\n",
      "2/2 [==============================] - 0s 142ms/step - loss: 0.0683 - acc: 1.0000 - val_loss: 0.0076 - val_acc: 1.0000\n",
      "Epoch 42/100\n",
      "2/2 [==============================] - 1s 411ms/step - loss: 0.0599 - acc: 1.0000 - val_loss: 0.0073 - val_acc: 1.0000\n",
      "Epoch 43/100\n",
      "2/2 [==============================] - 1s 385ms/step - loss: 0.1002 - acc: 1.0000 - val_loss: 0.0070 - val_acc: 1.0000\n",
      "Epoch 44/100\n",
      "2/2 [==============================] - 0s 136ms/step - loss: 0.0403 - acc: 1.0000 - val_loss: 0.0067 - val_acc: 1.0000\n",
      "Epoch 45/100\n",
      "2/2 [==============================] - 0s 135ms/step - loss: 0.0669 - acc: 1.0000 - val_loss: 0.0064 - val_acc: 1.0000\n",
      "Epoch 46/100\n",
      "2/2 [==============================] - 0s 140ms/step - loss: 0.0501 - acc: 1.0000 - val_loss: 0.0062 - val_acc: 1.0000\n",
      "Epoch 47/100\n",
      "2/2 [==============================] - 1s 369ms/step - loss: 0.0444 - acc: 1.0000 - val_loss: 0.0061 - val_acc: 1.0000\n",
      "Epoch 48/100\n",
      "2/2 [==============================] - 0s 136ms/step - loss: 0.0454 - acc: 1.0000 - val_loss: 0.0059 - val_acc: 1.0000\n",
      "Epoch 49/100\n",
      "2/2 [==============================] - 0s 135ms/step - loss: 0.0419 - acc: 1.0000 - val_loss: 0.0059 - val_acc: 1.0000\n",
      "Epoch 50/100\n",
      "2/2 [==============================] - 1s 396ms/step - loss: 0.0367 - acc: 1.0000 - val_loss: 0.0058 - val_acc: 1.0000\n",
      "Epoch 51/100\n",
      "2/2 [==============================] - 0s 134ms/step - loss: 0.0428 - acc: 1.0000 - val_loss: 0.0057 - val_acc: 1.0000\n",
      "Epoch 52/100\n",
      "2/2 [==============================] - 1s 370ms/step - loss: 0.0347 - acc: 1.0000 - val_loss: 0.0057 - val_acc: 1.0000\n",
      "Epoch 53/100\n",
      "2/2 [==============================] - 1s 394ms/step - loss: 0.0339 - acc: 1.0000 - val_loss: 0.0057 - val_acc: 1.0000\n",
      "Epoch 54/100\n",
      "2/2 [==============================] - 1s 374ms/step - loss: 0.0469 - acc: 1.0000 - val_loss: 0.0057 - val_acc: 1.0000\n",
      "Epoch 55/100\n",
      "2/2 [==============================] - 0s 137ms/step - loss: 0.0354 - acc: 1.0000 - val_loss: 0.0056 - val_acc: 1.0000\n",
      "Epoch 56/100\n",
      "2/2 [==============================] - 1s 376ms/step - loss: 0.0426 - acc: 1.0000 - val_loss: 0.0055 - val_acc: 1.0000\n",
      "Epoch 57/100\n",
      "2/2 [==============================] - 0s 137ms/step - loss: 0.0381 - acc: 1.0000 - val_loss: 0.0054 - val_acc: 1.0000\n",
      "Epoch 58/100\n",
      "2/2 [==============================] - 1s 424ms/step - loss: 0.0353 - acc: 1.0000 - val_loss: 0.0053 - val_acc: 1.0000\n",
      "Epoch 59/100\n",
      "2/2 [==============================] - 0s 151ms/step - loss: 0.0510 - acc: 1.0000 - val_loss: 0.0053 - val_acc: 1.0000\n",
      "Epoch 60/100\n",
      "2/2 [==============================] - 1s 510ms/step - loss: 0.0493 - acc: 1.0000 - val_loss: 0.0052 - val_acc: 1.0000\n",
      "Epoch 61/100\n",
      "1/2 [==============>...............] - ETA: 0s - loss: 0.0221 - acc: 1.0000"
     ]
    }
   ],
   "source": [
    "steps_per_epoch = np.ceil(train_generator.samples/train_generator.batch_size)\n",
    "val_steps_per_epoch = np.ceil(valid_generator.samples/valid_generator.batch_size)\n",
    "\n",
    "hist = model.fit(\n",
    "    train_generator, \n",
    "    epochs=100,\n",
    "    verbose=1,\n",
    "    steps_per_epoch=steps_per_epoch,\n",
    "    validation_data=valid_generator,\n",
    "    validation_steps=val_steps_per_epoch).history"
   ]
  },
  {
   "cell_type": "code",
   "execution_count": null,
   "metadata": {
    "colab": {},
    "colab_type": "code",
    "id": "-iNI4dNpGvg7"
   },
   "outputs": [],
   "source": [
    "final_loss, final_accuracy = model.evaluate(valid_generator, steps = val_steps_per_epoch)\n",
    "print(\"Final loss: {:.2f}\".format(final_loss))\n",
    "print(\"Final accuracy: {:.2f}%\".format(final_accuracy * 100))"
   ]
  },
  {
   "cell_type": "code",
   "execution_count": null,
   "metadata": {
    "colab": {},
    "colab_type": "code",
    "id": "hiJWQnyDHTTE"
   },
   "outputs": [],
   "source": [
    "\n",
    "plt.figure()\n",
    "plt.ylabel(\"Loss (training and validation)\")\n",
    "plt.xlabel(\"Training Steps\")\n",
    "plt.ylim([0,50])\n",
    "plt.plot(hist[\"loss\"])\n",
    "plt.plot(hist[\"val_loss\"])\n",
    "\n",
    "plt.figure()\n",
    "plt.ylabel(\"Accuracy (training and validation)\")\n",
    "plt.xlabel(\"Training Steps\")\n",
    "plt.ylim([0,1])\n",
    "plt.plot(hist[\"acc\"])\n",
    "plt.plot(hist[\"val_acc\"])"
   ]
  },
  {
   "cell_type": "markdown",
   "metadata": {
    "colab_type": "text",
    "id": "OWbM1Jm4F1qA"
   },
   "source": [
    "save trained model\n"
   ]
  },
  {
   "cell_type": "markdown",
   "metadata": {
    "colab_type": "text",
    "id": "oURjCe69CfD8"
   },
   "source": [
    "checking the performance of the model\n"
   ]
  },
  {
   "cell_type": "code",
   "execution_count": null,
   "metadata": {
    "colab": {},
    "colab_type": "code",
    "id": "hJB0_RgOAwk9"
   },
   "outputs": [],
   "source": [
    "val_image_batch, val_label_batch = next(iter(valid_generator))\n",
    "true_label_ids = np.argmax(val_label_batch, axis=-1)\n",
    "print(\"Validation batch shape:\", val_image_batch.shape)"
   ]
  },
  {
   "cell_type": "code",
   "execution_count": null,
   "metadata": {
    "colab": {},
    "colab_type": "code",
    "id": "hRp2KjvjHd_k"
   },
   "outputs": [],
   "source": [
    "dataset_labels = sorted(train_generator.class_indices.items(), key=lambda pair:pair[1])\n",
    "dataset_labels = np.array([key.title() for key, value in dataset_labels])\n",
    "print(dataset_labels)"
   ]
  },
  {
   "cell_type": "code",
   "execution_count": null,
   "metadata": {
    "colab": {},
    "colab_type": "code",
    "id": "YJwXwdjYHj2i"
   },
   "outputs": [],
   "source": [
    "tf_model_predictions = model.predict(val_image_batch)\n",
    "print(\"Prediction results shape:\", tf_model_predictions.shape)"
   ]
  },
  {
   "cell_type": "code",
   "execution_count": null,
   "metadata": {
    "colab": {},
    "colab_type": "code",
    "id": "mwPc50YCHkMQ"
   },
   "outputs": [],
   "source": [
    "predicted_ids = np.argmax(tf_model_predictions, axis=-1)\n",
    "predicted_labels = dataset_labels[predicted_ids]\n",
    "print(predicted_labels)"
   ]
  },
  {
   "cell_type": "code",
   "execution_count": null,
   "metadata": {
    "colab": {},
    "colab_type": "code",
    "id": "KOdzDhFGHkw6"
   },
   "outputs": [],
   "source": [
    "plt.figure(figsize=(10,9))\n",
    "plt.subplots_adjust(hspace=0.5)\n",
    "for n in range((len(predicted_labels)-2)):\n",
    "  plt.subplot(6,5,n+1)\n",
    "  plt.imshow(val_image_batch[n])\n",
    "  color = \"green\" if predicted_ids[n] == true_label_ids[n] else \"red\"\n",
    "  plt.title(predicted_labels[n].title(), color=color)\n",
    "  plt.axis('off')\n",
    "_ = plt.suptitle(\"Model predictions (green: correct, red: incorrect)\")"
   ]
  },
  {
   "cell_type": "markdown",
   "metadata": {
    "colab_type": "text",
    "id": "2DJAgRTLGLja"
   },
   "source": []
  },
  {
   "cell_type": "markdown",
   "metadata": {
    "colab_type": "text",
    "id": "Ln1E1AmcGhDZ"
   },
   "source": []
  }
 ],
 "metadata": {
  "accelerator": "GPU",
  "colab": {
   "collapsed_sections": [],
   "name": "final hackerEarth gala classification.ipynb",
   "provenance": [],
   "toc_visible": true
  },
  "kernelspec": {
   "display_name": "Python 3",
   "language": "python",
   "name": "python3"
  },
  "language_info": {
   "codemirror_mode": {
    "name": "ipython",
    "version": 3
   },
   "file_extension": ".py",
   "mimetype": "text/x-python",
   "name": "python",
   "nbconvert_exporter": "python",
   "pygments_lexer": "ipython3",
   "version": "3.8.8"
  }
 },
 "nbformat": 4,
 "nbformat_minor": 1
}
