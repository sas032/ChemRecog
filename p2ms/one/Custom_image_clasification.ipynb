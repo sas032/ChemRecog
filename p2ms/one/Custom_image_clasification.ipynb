{
 "cells": [
  {
   "cell_type": "code",
   "execution_count": 1,
   "metadata": {
    "colab": {},
    "colab_type": "code",
    "id": "SfVqsrCAq033"
   },
   "outputs": [],
   "source": [
    "import os\n",
    "from shutil import copy2\n",
    "import csv\n",
    "import pickle"
   ]
  },
  {
   "cell_type": "code",
   "execution_count": 2,
   "metadata": {
    "colab": {},
    "colab_type": "code",
    "id": "RzzvPCdWq5XZ"
   },
   "outputs": [],
   "source": [
    "from __future__ import absolute_import, division, print_function, unicode_literals\n",
    "\n",
    "try:\n",
    "  \n",
    "  %tensorflow_version 2.x\n",
    "except Exception:\n",
    "  pass\n",
    "import tensorflow as tf\n",
    "\n",
    "import os\n",
    "import numpy as np\n",
    "import matplotlib.pyplot as plt"
   ]
  },
  {
   "cell_type": "code",
   "execution_count": 3,
   "metadata": {
    "colab": {},
    "colab_type": "code",
    "id": "pGB8rH8trecP"
   },
   "outputs": [
    {
     "name": "stdout",
     "output_type": "stream",
     "text": [
      "Requirement already satisfied: tensorflow_hub in c:\\users\\supri\\anaconda3\\lib\\site-packages (0.12.0)\n",
      "Requirement already satisfied: numpy>=1.12.0 in c:\\users\\supri\\anaconda3\\lib\\site-packages (from tensorflow_hub) (1.19.2)\n",
      "Requirement already satisfied: protobuf>=3.8.0 in c:\\users\\supri\\anaconda3\\lib\\site-packages (from tensorflow_hub) (3.17.0)\n",
      "Requirement already satisfied: six>=1.9 in c:\\users\\supri\\anaconda3\\lib\\site-packages (from protobuf>=3.8.0->tensorflow_hub) (1.15.0)\n"
     ]
    }
   ],
   "source": [
    "!pip install tensorflow_hub"
   ]
  },
  {
   "cell_type": "code",
   "execution_count": 4,
   "metadata": {
    "colab": {},
    "colab_type": "code",
    "id": "FXt9rLUuFI5B"
   },
   "outputs": [],
   "source": [
    "import tensorflow_hub as hub"
   ]
  },
  {
   "cell_type": "code",
   "execution_count": 5,
   "metadata": {
    "colab": {},
    "colab_type": "code",
    "id": "-y5ROM_6FLHl"
   },
   "outputs": [
    {
     "data": {
      "text/plain": [
       "'2.5.0'"
      ]
     },
     "execution_count": 5,
     "metadata": {},
     "output_type": "execute_result"
    }
   ],
   "source": [
    "tf.__version__"
   ]
  },
  {
   "cell_type": "code",
   "execution_count": 6,
   "metadata": {
    "colab": {},
    "colab_type": "code",
    "id": "35_iMApcFRMg"
   },
   "outputs": [],
   "source": [
    "import pandas as pd\n",
    "\n",
    "# Increase precision of presented data for better side-by-side comparison\n",
    "pd.set_option(\"display.precision\", 8)"
   ]
  },
  {
   "cell_type": "code",
   "execution_count": 7,
   "metadata": {
    "colab": {},
    "colab_type": "code",
    "id": "2bdsezDTFUXQ"
   },
   "outputs": [],
   "source": [
    "data_root = (\"../Datasets/\")"
   ]
  },
  {
   "cell_type": "code",
   "execution_count": 8,
   "metadata": {
    "colab": {},
    "colab_type": "code",
    "id": "5rNgw-IyFzcY"
   },
   "outputs": [
    {
     "name": "stdout",
     "output_type": "stream",
     "text": [
      "Found 7 images belonging to 16 classes.\n",
      "Found 44 images belonging to 16 classes.\n"
     ]
    }
   ],
   "source": [
    "IMAGE_SHAPE = (224, 224)\n",
    "TRAINING_DATA_DIR = str(data_root)\n",
    "\n",
    "datagen_kwargs = dict(rescale=1./255, validation_split=.20)\n",
    "valid_datagen = tf.keras.preprocessing.image.ImageDataGenerator(**datagen_kwargs)\n",
    "valid_generator = valid_datagen.flow_from_directory(\n",
    "    TRAINING_DATA_DIR, \n",
    "    subset=\"validation\", \n",
    "    shuffle=True,\n",
    "    target_size=IMAGE_SHAPE\n",
    ")\n",
    "\n",
    "train_datagen = tf.keras.preprocessing.image.ImageDataGenerator(**datagen_kwargs)\n",
    "train_generator = train_datagen.flow_from_directory(\n",
    "    TRAINING_DATA_DIR, \n",
    "    subset=\"training\", \n",
    "    shuffle=True,\n",
    "    target_size=IMAGE_SHAPE)"
   ]
  },
  {
   "cell_type": "code",
   "execution_count": 9,
   "metadata": {
    "colab": {},
    "colab_type": "code",
    "id": "8Bg0xKAnGEWV"
   },
   "outputs": [
    {
     "data": {
      "text/plain": [
       "((32, 224, 224, 3), (32, 16))"
      ]
     },
     "execution_count": 9,
     "metadata": {},
     "output_type": "execute_result"
    }
   ],
   "source": [
    "for image_batch, label_batch in train_generator:\n",
    "  break\n",
    "image_batch.shape, label_batch.shape"
   ]
  },
  {
   "cell_type": "code",
   "execution_count": 10,
   "metadata": {
    "colab": {},
    "colab_type": "code",
    "id": "P645UYzUGLEF"
   },
   "outputs": [
    {
     "name": "stdout",
     "output_type": "stream",
     "text": [
      "{'Adrenaline': 0, 'Ethane': 1, 'Ethene': 2, 'Ethylene': 3, 'Isopentane': 4, 'M-xykene (1,3 - dimethylbenzene)': 5, 'Neopentane': 6, 'P-xylene (1,4 - dimethylbenzene)': 7, 'Phenylalanine': 8, 'Propylene': 9, 'acetaminophen': 10, 'acetylsalicylic': 11, 'benzene': 12, 'ibuprofen': 13, 'o-xylene (1,2 - dimethylbenzene)': 14, 'unknown': 15}\n"
     ]
    }
   ],
   "source": [
    "print (train_generator.class_indices)\n",
    "\n",
    "labels = '\\n'.join(sorted(train_generator.class_indices.keys()))\n",
    "\n",
    "with open('labels.txt', 'w') as f:\n",
    "  f.write(labels)"
   ]
  },
  {
   "cell_type": "code",
   "execution_count": 11,
   "metadata": {
    "colab": {},
    "colab_type": "code",
    "id": "0F75KwUvGRMv"
   },
   "outputs": [
    {
     "name": "stderr",
     "output_type": "stream",
     "text": [
      "'cat' is not recognized as an internal or external command,\n",
      "operable program or batch file.\n"
     ]
    }
   ],
   "source": [
    "!cat labels.txt"
   ]
  },
  {
   "cell_type": "code",
   "execution_count": 12,
   "metadata": {
    "colab": {},
    "colab_type": "code",
    "id": "MFNnREvqGbG4"
   },
   "outputs": [],
   "source": [
    "IMAGE_SIZE = 224"
   ]
  },
  {
   "cell_type": "code",
   "execution_count": 13,
   "metadata": {
    "colab": {},
    "colab_type": "code",
    "id": "XZqfkQllGe0L"
   },
   "outputs": [
    {
     "name": "stdout",
     "output_type": "stream",
     "text": [
      "Model: \"sequential\"\n",
      "_________________________________________________________________\n",
      "Layer (type)                 Output Shape              Param #   \n",
      "=================================================================\n",
      "keras_layer (KerasLayer)     (None, 1280)              2257984   \n",
      "_________________________________________________________________\n",
      "dropout (Dropout)            (None, 1280)              0         \n",
      "_________________________________________________________________\n",
      "dense (Dense)                (None, 16)                20496     \n",
      "=================================================================\n",
      "Total params: 2,278,480\n",
      "Trainable params: 20,496\n",
      "Non-trainable params: 2,257,984\n",
      "_________________________________________________________________\n"
     ]
    }
   ],
   "source": [
    "model = tf.keras.Sequential([\n",
    "  hub.KerasLayer(\"https://tfhub.dev/google/tf2-preview/mobilenet_v2/feature_vector/4\", \n",
    "                 output_shape=[1280],\n",
    "                 trainable=False),\n",
    "  tf.keras.layers.Dropout(0.4),\n",
    "  tf.keras.layers.Dense(train_generator.num_classes, activation='softmax')\n",
    "])\n",
    "model.build([None, 224, 224, 3])\n",
    "\n",
    "model.summary()"
   ]
  },
  {
   "cell_type": "code",
   "execution_count": 14,
   "metadata": {
    "colab": {},
    "colab_type": "code",
    "id": "R7za6jFDG10A"
   },
   "outputs": [
    {
     "name": "stderr",
     "output_type": "stream",
     "text": [
      "C:\\Users\\supri\\anaconda3\\lib\\site-packages\\tensorflow\\python\\keras\\optimizer_v2\\optimizer_v2.py:374: UserWarning: The `lr` argument is deprecated, use `learning_rate` instead.\n",
      "  warnings.warn(\n"
     ]
    }
   ],
   "source": [
    "optimizer = tf.keras.optimizers.Adam(lr=1e-3)"
   ]
  },
  {
   "cell_type": "code",
   "execution_count": 15,
   "metadata": {
    "colab": {},
    "colab_type": "code",
    "id": "QPiP6C70GhSf"
   },
   "outputs": [],
   "source": [
    "model.compile(\n",
    "  optimizer=optimizer,\n",
    "  loss='categorical_crossentropy',\n",
    "  metrics=['acc'])"
   ]
  },
  {
   "cell_type": "code",
   "execution_count": 16,
   "metadata": {
    "colab": {},
    "colab_type": "code",
    "id": "xfti_jBLGn_E"
   },
   "outputs": [
    {
     "name": "stdout",
     "output_type": "stream",
     "text": [
      "Epoch 1/100\n",
      "2/2 [==============================] - 15s 4s/step - loss: 2.7646 - acc: 0.2045 - val_loss: 1.2160 - val_acc: 1.0000\n",
      "Epoch 2/100\n",
      "2/2 [==============================] - 3s 1s/step - loss: 2.2069 - acc: 0.3636 - val_loss: 0.5708 - val_acc: 1.0000\n",
      "Epoch 3/100\n",
      "2/2 [==============================] - 4s 3s/step - loss: 1.6009 - acc: 0.6364 - val_loss: 0.2983 - val_acc: 1.0000\n",
      "Epoch 4/100\n",
      "2/2 [==============================] - 3s 1s/step - loss: 1.5531 - acc: 0.6591 - val_loss: 0.1899 - val_acc: 1.0000\n",
      "Epoch 5/100\n",
      "2/2 [==============================] - 3s 1s/step - loss: 1.4547 - acc: 0.5909 - val_loss: 0.1358 - val_acc: 1.0000\n",
      "Epoch 6/100\n",
      "2/2 [==============================] - 4s 3s/step - loss: 1.1693 - acc: 0.6818 - val_loss: 0.1011 - val_acc: 1.0000\n",
      "Epoch 7/100\n",
      "2/2 [==============================] - 4s 1s/step - loss: 1.1285 - acc: 0.6818 - val_loss: 0.0778 - val_acc: 1.0000\n",
      "Epoch 8/100\n",
      "2/2 [==============================] - 4s 3s/step - loss: 0.9047 - acc: 0.6818 - val_loss: 0.0588 - val_acc: 1.0000\n",
      "Epoch 9/100\n",
      "2/2 [==============================] - 3s 2s/step - loss: 0.8347 - acc: 0.8182 - val_loss: 0.0478 - val_acc: 1.0000\n",
      "Epoch 10/100\n",
      "2/2 [==============================] - 4s 3s/step - loss: 0.7644 - acc: 0.7955 - val_loss: 0.0432 - val_acc: 1.0000\n",
      "Epoch 11/100\n",
      "2/2 [==============================] - 4s 3s/step - loss: 0.7361 - acc: 0.7727 - val_loss: 0.0417 - val_acc: 1.0000\n",
      "Epoch 12/100\n",
      "2/2 [==============================] - 3s 3s/step - loss: 0.6117 - acc: 0.8636 - val_loss: 0.0403 - val_acc: 1.0000\n",
      "Epoch 13/100\n",
      "2/2 [==============================] - 5s 2s/step - loss: 0.5035 - acc: 0.8636 - val_loss: 0.0394 - val_acc: 1.0000\n",
      "Epoch 14/100\n",
      "2/2 [==============================] - 4s 1s/step - loss: 0.5249 - acc: 0.8864 - val_loss: 0.0386 - val_acc: 1.0000\n",
      "Epoch 15/100\n",
      "2/2 [==============================] - 4s 1s/step - loss: 0.3925 - acc: 0.9091 - val_loss: 0.0368 - val_acc: 1.0000\n",
      "Epoch 16/100\n",
      "2/2 [==============================] - 4s 2s/step - loss: 0.4259 - acc: 0.8864 - val_loss: 0.0340 - val_acc: 1.0000\n",
      "Epoch 17/100\n",
      "2/2 [==============================] - 3s 2s/step - loss: 0.2877 - acc: 0.9545 - val_loss: 0.0312 - val_acc: 1.0000\n",
      "Epoch 18/100\n",
      "2/2 [==============================] - 4s 3s/step - loss: 0.2625 - acc: 0.9545 - val_loss: 0.0290 - val_acc: 1.0000\n",
      "Epoch 19/100\n",
      "2/2 [==============================] - 4s 3s/step - loss: 0.2386 - acc: 0.9545 - val_loss: 0.0270 - val_acc: 1.0000\n",
      "Epoch 20/100\n",
      "2/2 [==============================] - 3s 2s/step - loss: 0.2350 - acc: 0.9773 - val_loss: 0.0257 - val_acc: 1.0000\n",
      "Epoch 21/100\n",
      "2/2 [==============================] - 4s 3s/step - loss: 0.1790 - acc: 0.9773 - val_loss: 0.0244 - val_acc: 1.0000\n",
      "Epoch 22/100\n",
      "2/2 [==============================] - 3s 3s/step - loss: 0.2388 - acc: 0.9545 - val_loss: 0.0230 - val_acc: 1.0000\n",
      "Epoch 23/100\n",
      "2/2 [==============================] - 3s 3s/step - loss: 0.1937 - acc: 1.0000 - val_loss: 0.0215 - val_acc: 1.0000\n",
      "Epoch 24/100\n",
      "2/2 [==============================] - 4s 2s/step - loss: 0.1647 - acc: 1.0000 - val_loss: 0.0199 - val_acc: 1.0000\n",
      "Epoch 25/100\n",
      "2/2 [==============================] - 3s 1s/step - loss: 0.1143 - acc: 1.0000 - val_loss: 0.0183 - val_acc: 1.0000\n",
      "Epoch 26/100\n",
      "2/2 [==============================] - 5s 4s/step - loss: 0.1116 - acc: 1.0000 - val_loss: 0.0166 - val_acc: 1.0000\n",
      "Epoch 27/100\n",
      "2/2 [==============================] - 5s 2s/step - loss: 0.1190 - acc: 1.0000 - val_loss: 0.0151 - val_acc: 1.0000\n",
      "Epoch 28/100\n",
      "2/2 [==============================] - 9s 3s/step - loss: 0.1293 - acc: 1.0000 - val_loss: 0.0137 - val_acc: 1.0000\n",
      "Epoch 29/100\n",
      "2/2 [==============================] - 15s 10s/step - loss: 0.1260 - acc: 0.9773 - val_loss: 0.0124 - val_acc: 1.0000\n",
      "Epoch 30/100\n",
      "2/2 [==============================] - 4s 1s/step - loss: 0.1198 - acc: 0.9773 - val_loss: 0.0114 - val_acc: 1.0000\n",
      "Epoch 31/100\n",
      "2/2 [==============================] - 4s 1s/step - loss: 0.1071 - acc: 1.0000 - val_loss: 0.0105 - val_acc: 1.0000\n",
      "Epoch 32/100\n",
      "2/2 [==============================] - 4s 1s/step - loss: 0.1025 - acc: 0.9773 - val_loss: 0.0098 - val_acc: 1.0000\n",
      "Epoch 33/100\n",
      "2/2 [==============================] - 4s 3s/step - loss: 0.0998 - acc: 1.0000 - val_loss: 0.0093 - val_acc: 1.0000\n",
      "Epoch 34/100\n",
      "2/2 [==============================] - 4s 1s/step - loss: 0.0913 - acc: 1.0000 - val_loss: 0.0088 - val_acc: 1.0000\n",
      "Epoch 35/100\n",
      "2/2 [==============================] - 5s 2s/step - loss: 0.0873 - acc: 0.9773 - val_loss: 0.0084 - val_acc: 1.0000\n",
      "Epoch 36/100\n",
      "2/2 [==============================] - 4s 3s/step - loss: 0.1130 - acc: 1.0000 - val_loss: 0.0082 - val_acc: 1.0000\n",
      "Epoch 37/100\n",
      "2/2 [==============================] - 4s 3s/step - loss: 0.1061 - acc: 0.9773 - val_loss: 0.0079 - val_acc: 1.0000\n",
      "Epoch 38/100\n",
      "2/2 [==============================] - 4s 2s/step - loss: 0.0767 - acc: 1.0000 - val_loss: 0.0077 - val_acc: 1.0000\n",
      "Epoch 39/100\n",
      "2/2 [==============================] - 5s 1s/step - loss: 0.0855 - acc: 1.0000 - val_loss: 0.0074 - val_acc: 1.0000\n",
      "Epoch 40/100\n",
      "2/2 [==============================] - 4s 1s/step - loss: 0.0673 - acc: 1.0000 - val_loss: 0.0071 - val_acc: 1.0000\n",
      "Epoch 41/100\n",
      "2/2 [==============================] - 4s 1s/step - loss: 0.0648 - acc: 1.0000 - val_loss: 0.0067 - val_acc: 1.0000\n",
      "Epoch 42/100\n",
      "2/2 [==============================] - 4s 3s/step - loss: 0.0467 - acc: 1.0000 - val_loss: 0.0064 - val_acc: 1.0000\n",
      "Epoch 43/100\n",
      "2/2 [==============================] - 4s 3s/step - loss: 0.0657 - acc: 0.9773 - val_loss: 0.0061 - val_acc: 1.0000\n",
      "Epoch 44/100\n",
      "2/2 [==============================] - 4s 3s/step - loss: 0.0454 - acc: 1.0000 - val_loss: 0.0058 - val_acc: 1.0000\n",
      "Epoch 45/100\n",
      "2/2 [==============================] - 4s 1s/step - loss: 0.0827 - acc: 1.0000 - val_loss: 0.0057 - val_acc: 1.0000\n",
      "Epoch 46/100\n",
      "2/2 [==============================] - 4s 3s/step - loss: 0.0347 - acc: 1.0000 - val_loss: 0.0055 - val_acc: 1.0000\n",
      "Epoch 47/100\n",
      "2/2 [==============================] - 4s 1s/step - loss: 0.0512 - acc: 1.0000 - val_loss: 0.0054 - val_acc: 1.0000\n",
      "Epoch 48/100\n",
      "2/2 [==============================] - 4s 3s/step - loss: 0.0580 - acc: 1.0000 - val_loss: 0.0053 - val_acc: 1.0000\n",
      "Epoch 49/100\n",
      "2/2 [==============================] - 4s 1s/step - loss: 0.0480 - acc: 1.0000 - val_loss: 0.0051 - val_acc: 1.0000\n",
      "Epoch 50/100\n",
      "2/2 [==============================] - 4s 3s/step - loss: 0.0447 - acc: 1.0000 - val_loss: 0.0050 - val_acc: 1.0000\n",
      "Epoch 51/100\n",
      "2/2 [==============================] - 7s 4s/step - loss: 0.0631 - acc: 1.0000 - val_loss: 0.0049 - val_acc: 1.0000\n",
      "Epoch 52/100\n",
      "2/2 [==============================] - 4s 1s/step - loss: 0.0344 - acc: 1.0000 - val_loss: 0.0048 - val_acc: 1.0000\n",
      "Epoch 53/100\n",
      "2/2 [==============================] - 5s 4s/step - loss: 0.0735 - acc: 0.9773 - val_loss: 0.0048 - val_acc: 1.0000\n",
      "Epoch 54/100\n",
      "2/2 [==============================] - 4s 1s/step - loss: 0.0338 - acc: 1.0000 - val_loss: 0.0048 - val_acc: 1.0000\n",
      "Epoch 55/100\n",
      "2/2 [==============================] - 4s 3s/step - loss: 0.0342 - acc: 1.0000 - val_loss: 0.0049 - val_acc: 1.0000\n",
      "Epoch 56/100\n",
      "2/2 [==============================] - 4s 3s/step - loss: 0.0314 - acc: 1.0000 - val_loss: 0.0050 - val_acc: 1.0000\n",
      "Epoch 57/100\n",
      "2/2 [==============================] - 4s 1s/step - loss: 0.0362 - acc: 1.0000 - val_loss: 0.0050 - val_acc: 1.0000\n",
      "Epoch 58/100\n",
      "2/2 [==============================] - 4s 1s/step - loss: 0.0349 - acc: 1.0000 - val_loss: 0.0050 - val_acc: 1.0000\n",
      "Epoch 59/100\n",
      "2/2 [==============================] - 4s 1s/step - loss: 0.0391 - acc: 1.0000 - val_loss: 0.0050 - val_acc: 1.0000\n",
      "Epoch 60/100\n",
      "2/2 [==============================] - 4s 3s/step - loss: 0.0342 - acc: 1.0000 - val_loss: 0.0049 - val_acc: 1.0000\n",
      "Epoch 61/100\n",
      "2/2 [==============================] - 4s 1s/step - loss: 0.0528 - acc: 1.0000 - val_loss: 0.0047 - val_acc: 1.0000\n",
      "Epoch 62/100\n",
      "2/2 [==============================] - 4s 3s/step - loss: 0.0220 - acc: 1.0000 - val_loss: 0.0046 - val_acc: 1.0000\n",
      "Epoch 63/100\n",
      "2/2 [==============================] - 4s 3s/step - loss: 0.0521 - acc: 1.0000 - val_loss: 0.0044 - val_acc: 1.0000\n",
      "Epoch 64/100\n"
     ]
    },
    {
     "name": "stdout",
     "output_type": "stream",
     "text": [
      "2/2 [==============================] - 4s 1s/step - loss: 0.0330 - acc: 1.0000 - val_loss: 0.0042 - val_acc: 1.0000\n",
      "Epoch 65/100\n",
      "2/2 [==============================] - 5s 2s/step - loss: 0.0260 - acc: 1.0000 - val_loss: 0.0040 - val_acc: 1.0000\n",
      "Epoch 66/100\n",
      "2/2 [==============================] - 7s 2s/step - loss: 0.0301 - acc: 1.0000 - val_loss: 0.0038 - val_acc: 1.0000\n",
      "Epoch 67/100\n",
      "2/2 [==============================] - 5s 3s/step - loss: 0.0317 - acc: 1.0000 - val_loss: 0.0037 - val_acc: 1.0000\n",
      "Epoch 68/100\n",
      "2/2 [==============================] - 4s 1s/step - loss: 0.0216 - acc: 1.0000 - val_loss: 0.0035 - val_acc: 1.0000\n",
      "Epoch 69/100\n",
      "2/2 [==============================] - 4s 1s/step - loss: 0.0167 - acc: 1.0000 - val_loss: 0.0034 - val_acc: 1.0000\n",
      "Epoch 70/100\n",
      "2/2 [==============================] - 4s 3s/step - loss: 0.0219 - acc: 1.0000 - val_loss: 0.0033 - val_acc: 1.0000\n",
      "Epoch 71/100\n",
      "2/2 [==============================] - 4s 1s/step - loss: 0.0294 - acc: 1.0000 - val_loss: 0.0032 - val_acc: 1.0000\n",
      "Epoch 72/100\n",
      "2/2 [==============================] - 4s 3s/step - loss: 0.0478 - acc: 1.0000 - val_loss: 0.0032 - val_acc: 1.0000\n",
      "Epoch 73/100\n",
      "2/2 [==============================] - 4s 3s/step - loss: 0.0235 - acc: 1.0000 - val_loss: 0.0031 - val_acc: 1.0000\n",
      "Epoch 74/100\n",
      "2/2 [==============================] - 4s 3s/step - loss: 0.0239 - acc: 1.0000 - val_loss: 0.0030 - val_acc: 1.0000\n",
      "Epoch 75/100\n",
      "2/2 [==============================] - 4s 3s/step - loss: 0.0290 - acc: 1.0000 - val_loss: 0.0030 - val_acc: 1.0000\n",
      "Epoch 76/100\n",
      "2/2 [==============================] - 4s 1s/step - loss: 0.0210 - acc: 1.0000 - val_loss: 0.0030 - val_acc: 1.0000\n",
      "Epoch 77/100\n",
      "2/2 [==============================] - 4s 1s/step - loss: 0.0251 - acc: 1.0000 - val_loss: 0.0029 - val_acc: 1.0000\n",
      "Epoch 78/100\n",
      "2/2 [==============================] - 4s 3s/step - loss: 0.0306 - acc: 1.0000 - val_loss: 0.0029 - val_acc: 1.0000\n",
      "Epoch 79/100\n",
      "2/2 [==============================] - 4s 3s/step - loss: 0.0184 - acc: 1.0000 - val_loss: 0.0028 - val_acc: 1.0000\n",
      "Epoch 80/100\n",
      "2/2 [==============================] - 4s 3s/step - loss: 0.0163 - acc: 1.0000 - val_loss: 0.0028 - val_acc: 1.0000\n",
      "Epoch 81/100\n",
      "2/2 [==============================] - 4s 1s/step - loss: 0.0137 - acc: 1.0000 - val_loss: 0.0028 - val_acc: 1.0000\n",
      "Epoch 82/100\n",
      "2/2 [==============================] - 4s 3s/step - loss: 0.0215 - acc: 1.0000 - val_loss: 0.0027 - val_acc: 1.0000\n",
      "Epoch 83/100\n",
      "2/2 [==============================] - 4s 3s/step - loss: 0.0208 - acc: 1.0000 - val_loss: 0.0027 - val_acc: 1.0000\n",
      "Epoch 84/100\n",
      "2/2 [==============================] - 4s 1s/step - loss: 0.0129 - acc: 1.0000 - val_loss: 0.0027 - val_acc: 1.0000\n",
      "Epoch 85/100\n",
      "2/2 [==============================] - 4s 3s/step - loss: 0.0301 - acc: 1.0000 - val_loss: 0.0026 - val_acc: 1.0000\n",
      "Epoch 86/100\n",
      "2/2 [==============================] - 4s 3s/step - loss: 0.0168 - acc: 1.0000 - val_loss: 0.0026 - val_acc: 1.0000\n",
      "Epoch 87/100\n",
      "2/2 [==============================] - 4s 3s/step - loss: 0.0303 - acc: 1.0000 - val_loss: 0.0026 - val_acc: 1.0000\n",
      "Epoch 88/100\n",
      "2/2 [==============================] - 4s 3s/step - loss: 0.0241 - acc: 1.0000 - val_loss: 0.0026 - val_acc: 1.0000\n",
      "Epoch 89/100\n",
      "2/2 [==============================] - 3s 3s/step - loss: 0.0212 - acc: 1.0000 - val_loss: 0.0026 - val_acc: 1.0000\n",
      "Epoch 90/100\n",
      "2/2 [==============================] - 4s 3s/step - loss: 0.0176 - acc: 1.0000 - val_loss: 0.0026 - val_acc: 1.0000\n",
      "Epoch 91/100\n",
      "2/2 [==============================] - 4s 3s/step - loss: 0.0110 - acc: 1.0000 - val_loss: 0.0026 - val_acc: 1.0000\n",
      "Epoch 92/100\n",
      "2/2 [==============================] - 4s 3s/step - loss: 0.0100 - acc: 1.0000 - val_loss: 0.0025 - val_acc: 1.0000\n",
      "Epoch 93/100\n",
      "2/2 [==============================] - 4s 3s/step - loss: 0.0220 - acc: 1.0000 - val_loss: 0.0025 - val_acc: 1.0000\n",
      "Epoch 94/100\n",
      "2/2 [==============================] - 6s 5s/step - loss: 0.0168 - acc: 1.0000 - val_loss: 0.0025 - val_acc: 1.0000\n",
      "Epoch 95/100\n",
      "2/2 [==============================] - 6s 5s/step - loss: 0.0132 - acc: 1.0000 - val_loss: 0.0024 - val_acc: 1.0000\n",
      "Epoch 96/100\n",
      "2/2 [==============================] - 4s 3s/step - loss: 0.0232 - acc: 1.0000 - val_loss: 0.0024 - val_acc: 1.0000\n",
      "Epoch 97/100\n",
      "2/2 [==============================] - 5s 2s/step - loss: 0.0155 - acc: 1.0000 - val_loss: 0.0024 - val_acc: 1.0000\n",
      "Epoch 98/100\n",
      "2/2 [==============================] - 11s 9s/step - loss: 0.0379 - acc: 1.0000 - val_loss: 0.0024 - val_acc: 1.0000\n",
      "Epoch 99/100\n",
      "2/2 [==============================] - 6s 1s/step - loss: 0.0211 - acc: 1.0000 - val_loss: 0.0024 - val_acc: 1.0000\n",
      "Epoch 100/100\n",
      "2/2 [==============================] - 4s 3s/step - loss: 0.0156 - acc: 1.0000 - val_loss: 0.0024 - val_acc: 1.0000\n"
     ]
    }
   ],
   "source": [
    "steps_per_epoch = np.ceil(train_generator.samples/train_generator.batch_size)\n",
    "val_steps_per_epoch = np.ceil(valid_generator.samples/valid_generator.batch_size)\n",
    "\n",
    "hist = model.fit(\n",
    "    train_generator, \n",
    "    epochs=100,\n",
    "    verbose=1,\n",
    "    steps_per_epoch=steps_per_epoch,\n",
    "    validation_data=valid_generator,\n",
    "    validation_steps=val_steps_per_epoch).history"
   ]
  },
  {
   "cell_type": "code",
   "execution_count": 17,
   "metadata": {
    "colab": {},
    "colab_type": "code",
    "id": "-iNI4dNpGvg7"
   },
   "outputs": [
    {
     "name": "stdout",
     "output_type": "stream",
     "text": [
      "1/1 [==============================] - 0s 495ms/step - loss: 0.0024 - acc: 1.0000\n",
      "Final loss: 0.00\n",
      "Final accuracy: 100.00%\n"
     ]
    }
   ],
   "source": [
    "final_loss, final_accuracy = model.evaluate(valid_generator, steps = val_steps_per_epoch)\n",
    "print(\"Final loss: {:.2f}\".format(final_loss))\n",
    "print(\"Final accuracy: {:.2f}%\".format(final_accuracy * 100))"
   ]
  },
  {
   "cell_type": "code",
   "execution_count": 18,
   "metadata": {
    "colab": {},
    "colab_type": "code",
    "id": "hiJWQnyDHTTE"
   },
   "outputs": [
    {
     "data": {
      "text/plain": [
       "[<matplotlib.lines.Line2D at 0x284ac8db670>]"
      ]
     },
     "execution_count": 18,
     "metadata": {},
     "output_type": "execute_result"
    },
    {
     "data": {
      "image/png": "[encoded data removed]",
      "text/plain": [
       "<Figure size 432x288 with 1 Axes>"
      ]
     },
     "metadata": {
      "needs_background": "light"
     },
     "output_type": "display_data"
    },
    {
     "data": {
      "image/png": "[encoded data removed]",
      "text/plain": [
       "<Figure size 432x288 with 1 Axes>"
      ]
     },
     "metadata": {
      "needs_background": "light"
     },
     "output_type": "display_data"
    }
   ],
   "source": [
    "\n",
    "plt.figure()\n",
    "plt.ylabel(\"Loss (training and validation)\")\n",
    "plt.xlabel(\"Training Steps\")\n",
    "plt.ylim([0,50])\n",
    "plt.plot(hist[\"loss\"])\n",
    "plt.plot(hist[\"val_loss\"])\n",
    "\n",
    "plt.figure()\n",
    "plt.ylabel(\"Accuracy (training and validation)\")\n",
    "plt.xlabel(\"Training Steps\")\n",
    "plt.ylim([0,1])\n",
    "plt.plot(hist[\"acc\"])\n",
    "plt.plot(hist[\"val_acc\"])"
   ]
  },
  {
   "cell_type": "markdown",
   "metadata": {
    "colab_type": "text",
    "id": "OWbM1Jm4F1qA"
   },
   "source": [
    "save trained model\n"
   ]
  },
  {
   "cell_type": "markdown",
   "metadata": {
    "colab_type": "text",
    "id": "oURjCe69CfD8"
   },
   "source": [
    "checking the performance of the model\n"
   ]
  },
  {
   "cell_type": "code",
   "execution_count": 19,
   "metadata": {
    "colab": {},
    "colab_type": "code",
    "id": "hJB0_RgOAwk9"
   },
   "outputs": [
    {
     "name": "stdout",
     "output_type": "stream",
     "text": [
      "Validation batch shape: (7, 224, 224, 3)\n"
     ]
    }
   ],
   "source": [
    "val_image_batch, val_label_batch = next(iter(valid_generator))\n",
    "true_label_ids = np.argmax(val_label_batch, axis=-1)\n",
    "print(\"Validation batch shape:\", val_image_batch.shape)"
   ]
  },
  {
   "cell_type": "code",
   "execution_count": 20,
   "metadata": {
    "colab": {},
    "colab_type": "code",
    "id": "hRp2KjvjHd_k"
   },
   "outputs": [
    {
     "name": "stdout",
     "output_type": "stream",
     "text": [
      "['Adrenaline' 'Ethane' 'Ethene' 'Ethylene' 'Isopentane'\n",
      " 'M-Xykene (1,3 - Dimethylbenzene)' 'Neopentane'\n",
      " 'P-Xylene (1,4 - Dimethylbenzene)' 'Phenylalanine' 'Propylene'\n",
      " 'Acetaminophen' 'Acetylsalicylic' 'Benzene' 'Ibuprofen'\n",
      " 'O-Xylene (1,2 - Dimethylbenzene)' 'Unknown']\n"
     ]
    }
   ],
   "source": [
    "dataset_labels = sorted(train_generator.class_indices.items(), key=lambda pair:pair[1])\n",
    "dataset_labels = np.array([key.title() for key, value in dataset_labels])\n",
    "print(dataset_labels)"
   ]
  },
  {
   "cell_type": "code",
   "execution_count": 21,
   "metadata": {
    "colab": {},
    "colab_type": "code",
    "id": "YJwXwdjYHj2i"
   },
   "outputs": [
    {
     "name": "stdout",
     "output_type": "stream",
     "text": [
      "Prediction results shape: (7, 16)\n"
     ]
    }
   ],
   "source": [
    "tf_model_predictions = model.predict(val_image_batch)\n",
    "print(\"Prediction results shape:\", tf_model_predictions.shape)"
   ]
  },
  {
   "cell_type": "code",
   "execution_count": 22,
   "metadata": {
    "colab": {},
    "colab_type": "code",
    "id": "mwPc50YCHkMQ"
   },
   "outputs": [
    {
     "name": "stdout",
     "output_type": "stream",
     "text": [
      "['Benzene' 'Unknown' 'Benzene' 'Benzene' 'Benzene' 'Benzene' 'Benzene']\n"
     ]
    }
   ],
   "source": [
    "predicted_ids = np.argmax(tf_model_predictions, axis=-1)\n",
    "predicted_labels = dataset_labels[predicted_ids]\n",
    "print(predicted_labels)"
   ]
  },
  {
   "cell_type": "code",
   "execution_count": 23,
   "metadata": {
    "colab": {},
    "colab_type": "code",
    "id": "KOdzDhFGHkw6"
   },
   "outputs": [
    {
     "data": {
      "image/png": "[encoded data removed]",
      "text/plain": [
       "<Figure size 720x648 with 5 Axes>"
      ]
     },
     "metadata": {
      "needs_background": "light"
     },
     "output_type": "display_data"
    }
   ],
   "source": [
    "plt.figure(figsize=(10,9))\n",
    "plt.subplots_adjust(hspace=0.5)\n",
    "for n in range((len(predicted_labels)-2)):\n",
    "  plt.subplot(6,5,n+1)\n",
    "  plt.imshow(val_image_batch[n])\n",
    "  color = \"green\" if predicted_ids[n] == true_label_ids[n] else \"red\"\n",
    "  plt.title(predicted_labels[n].title(), color=color)\n",
    "  plt.axis('off')\n",
    "_ = plt.suptitle(\"Model predictions (green: correct, red: incorrect)\")"
   ]
  },
  {
   "cell_type": "markdown",
   "metadata": {
    "colab_type": "text",
    "id": "2DJAgRTLGLja"
   },
   "source": []
  },
  {
   "cell_type": "markdown",
   "metadata": {
    "colab_type": "text",
    "id": "Ln1E1AmcGhDZ"
   },
   "source": []
  }
 ],
 "metadata": {
  "accelerator": "GPU",
  "colab": {
   "collapsed_sections": [],
   "name": "final hackerEarth gala classification.ipynb",
   "provenance": [],
   "toc_visible": true
  },
  "kernelspec": {
   "display_name": "Python 3",
   "language": "python",
   "name": "python3"
  },
  "language_info": {
   "codemirror_mode": {
    "name": "ipython",
    "version": 3
   },
   "file_extension": ".py",
   "mimetype": "text/x-python",
   "name": "python",
   "nbconvert_exporter": "python",
   "pygments_lexer": "ipython3",
   "version": "3.8.5"
  }
 },
 "nbformat": 4,
 "nbformat_minor": 1
}
