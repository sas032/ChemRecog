{
 "cells": [
  {
   "cell_type": "code",
   "execution_count": 1,
   "metadata": {},
   "outputs": [],
   "source": [
    "import tensorflow.keras\n",
    "from PIL import Image, ImageOps\n",
    "import numpy as np\n",
    "import pickle"
   ]
  },
  {
   "cell_type": "code",
   "execution_count": 4,
   "metadata": {},
   "outputs": [
    {
     "name": "stdout",
     "output_type": "stream",
     "text": [
      "WARNING:tensorflow:No training configuration found in the save file, so the model was *not* compiled. Compile it manually.\n",
      "[0.99999774 0.00000002 0.00000011 0.         0.         0.\n",
      " 0.00000004 0.00000008 0.00000004 0.         0.00000007 0.00000164\n",
      " 0.00000002 0.00000015 0.0000001 ]\n",
      "benzene\n",
      "Accuracy= 99.99977350234985 %\n"
     ]
    }
   ],
   "source": [
    "labels = [\"benzene\",\"acetaminophen\",\"acetysalicylic\",\"adrenaline\",\"ethane\",\"ethene\",\"ethylene\",\"ibuprofen\",\"isopentane\",\"propylene\",\"M-xykene (1,3 - dimethylbenzene)\",\\\n",
    "          \"o-xylene (1,2 - dimethylbenzene)\",\"neopentane\",\"phenylalanine\",\"P-xylene (1,4 - dimethylbenzene)\",\"Unknown or Bonds\"]\n",
    "\n",
    "np.set_printoptions(suppress=True)\n",
    "\n",
    "model = tensorflow.keras.models.load_model('converted_keras(w)/keras_model.h5')\n",
    "\n",
    "\n",
    "data = np.ndarray(shape=(1, 224, 224, 3), dtype=np.float32)\n",
    "\n",
    "image = Image.open('testing/four.jpeg')\n",
    "\n",
    "size = (224, 224)\n",
    "image = ImageOps.fit(image, size, Image.ANTIALIAS)\n",
    "\n",
    "\n",
    "image_array = np.asarray(image)\n",
    "image.show()\n",
    "normalized_image_array = (image_array.astype(np.float32) / 127.0) - 1\n",
    "\n",
    "\n",
    "data[0] = normalized_image_array\n",
    "\n",
    "prediction = model.predict(data)\n",
    "print(prediction[0])\n",
    "pred_list=list(prediction[0])\n",
    "index = pred_list.index(max(pred_list))\n",
    "\n",
    "print(labels[index])\n",
    "\n",
    "print(\"Accuracy=\",max(pred_list)*100,\"%\")"
   ]
  },
  {
   "cell_type": "code",
   "execution_count": 5,
   "metadata": {},
   "outputs": [
    {
     "ename": "TypeError",
     "evalue": "cannot pickle 'weakref' object",
     "output_type": "error",
     "traceback": [
      "\u001b[1;31m---------------------------------------------------------------------------\u001b[0m",
      "\u001b[1;31mTypeError\u001b[0m                                 Traceback (most recent call last)",
      "\u001b[1;32m<ipython-input-5-262afc454dac>\u001b[0m in \u001b[0;36m<module>\u001b[1;34m\u001b[0m\n\u001b[1;32m----> 1\u001b[1;33m \u001b[0mpickle\u001b[0m\u001b[1;33m.\u001b[0m\u001b[0mdump\u001b[0m\u001b[1;33m(\u001b[0m\u001b[0mmodel\u001b[0m\u001b[1;33m,\u001b[0m \u001b[0mopen\u001b[0m\u001b[1;33m(\u001b[0m\u001b[1;34m'model.pkl'\u001b[0m\u001b[1;33m,\u001b[0m\u001b[1;34m'wb'\u001b[0m\u001b[1;33m)\u001b[0m\u001b[1;33m)\u001b[0m\u001b[1;33m\u001b[0m\u001b[1;33m\u001b[0m\u001b[0m\n\u001b[0m",
      "\u001b[1;31mTypeError\u001b[0m: cannot pickle 'weakref' object"
     ]
    }
   ],
   "source": [
    "pickle.dump(model, open('model.pkl','wb'))"
   ]
  },
  {
   "cell_type": "code",
   "execution_count": null,
   "metadata": {},
   "outputs": [],
   "source": []
  }
 ],
 "metadata": {
  "kernelspec": {
   "display_name": "Python 3",
   "language": "python",
   "name": "python3"
  },
  "language_info": {
   "codemirror_mode": {
    "name": "ipython",
    "version": 3
   },
   "file_extension": ".py",
   "mimetype": "text/x-python",
   "name": "python",
   "nbconvert_exporter": "python",
   "pygments_lexer": "ipython3",
   "version": "3.8.8"
  }
 },
 "nbformat": 4,
 "nbformat_minor": 4
}
