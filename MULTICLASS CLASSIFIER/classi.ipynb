{
 "cells": [
  {
   "cell_type": "code",
   "execution_count": 1,
   "metadata": {},
   "outputs": [],
   "source": [
    "import tensorflow.keras\n",
    "from PIL import Image, ImageOps\n",
    "import numpy as np"
   ]
  },
  {
   "cell_type": "code",
   "execution_count": 31,
   "metadata": {},
   "outputs": [
    {
     "name": "stdout",
     "output_type": "stream",
     "text": [
      "WARNING:tensorflow:No training configuration found in the save file, so the model was *not* compiled. Compile it manually.\n",
      "WARNING:tensorflow:Model was constructed with shape (None, 224, 224, 3) for input Tensor(\"sequential_5_input:0\", shape=(None, 224, 224, 3), dtype=float32), but it was called on an input with incompatible shape (None, 1000, 1000, 3).\n",
      "WARNING:tensorflow:Model was constructed with shape (None, 224, 224, 3) for input Tensor(\"model2_input:0\", shape=(None, 224, 224, 3), dtype=float32), but it was called on an input with incompatible shape (None, 1000, 1000, 3).\n",
      "WARNING:tensorflow:Model was constructed with shape (None, 224, 224, 3) for input Tensor(\"input_1_28:0\", shape=(None, 224, 224, 3), dtype=float32), but it was called on an input with incompatible shape (None, 1000, 1000, 3).\n",
      "WARNING:tensorflow:11 out of the last 11 calls to <function Model.make_predict_function.<locals>.predict_function at 0x0000024855A94310> triggered tf.function retracing. Tracing is expensive and the excessive number of tracings could be due to (1) creating @tf.function repeatedly in a loop, (2) passing tensors with different shapes, (3) passing Python objects instead of tensors. For (1), please define your @tf.function outside of the loop. For (2), @tf.function has experimental_relax_shapes=True option that relaxes argument shapes that can avoid unnecessary retracing. For (3), please refer to https://www.tensorflow.org/tutorials/customization/performance#python_or_tensor_args and https://www.tensorflow.org/api_docs/python/tf/function for  more details.\n",
      "[0.996748   0.00014052 0.00025352 0.00002997 0.00004655 0.00005218\n",
      " 0.00013562 0.0002647  0.00015903 0.00002672 0.00021396 0.00124038\n",
      " 0.0001526  0.00031363 0.0002226 ]\n",
      "benzene\n",
      "Accuracy= 99.67479705810547 %\n"
     ]
    }
   ],
   "source": [
    "labels = [\"benzene\",\"acetaminophen\",\"acetysalicylic\",\"adrenaline\",\"ethane\",\"ethene\",\"ethylene\",\"ibuprofen\",\"isopentane\",\"propylene\",\"M-xykene (1,3 - dimethylbenzene)\",\\\n",
    "          \"o-xylene (1,2 - dimethylbenzene)\",\"neopentane\",\"phenylalanine\",\"P-xylene (1,4 - dimethylbenzene)\",\"Unknown or Bonds\"]\n",
    "\n",
    "np.set_printoptions(suppress=True)\n",
    "\n",
    "model = tensorflow.keras.models.load_model('converted_keras(w)/keras_model.h5')\n",
    "\n",
    "\n",
    "data = np.ndarray(shape=(1, 1000, 1000, 3), dtype=np.float32)\n",
    "\n",
    "image = Image.open('testing/four.jpeg')\n",
    "\n",
    "size = (1000, 1000)\n",
    "image = ImageOps.fit(image, size, Image.ANTIALIAS)\n",
    "\n",
    "\n",
    "image_array = np.asarray(image)\n",
    "image.show()\n",
    "normalized_image_array = (image_array.astype(np.float32) / 127.0) - 1\n",
    "\n",
    "\n",
    "data[0] = normalized_image_array\n",
    "\n",
    "prediction = model.predict(data)\n",
    "print(prediction[0])\n",
    "pred_list=list(prediction[0])\n",
    "index = pred_list.index(max(pred_list))\n",
    "\n",
    "print(labels[index])\n",
    "\n",
    "print(\"Accuracy=\",max(pred_list)*100,\"%\")"
   ]
  },
  {
   "cell_type": "code",
   "execution_count": null,
   "metadata": {},
   "outputs": [],
   "source": []
  }
 ],
 "metadata": {
  "kernelspec": {
   "display_name": "Python 3",
   "language": "python",
   "name": "python3"
  },
  "language_info": {
   "codemirror_mode": {
    "name": "ipython",
    "version": 3
   },
   "file_extension": ".py",
   "mimetype": "text/x-python",
   "name": "python",
   "nbconvert_exporter": "python",
   "pygments_lexer": "ipython3",
   "version": "3.8.8"
  }
 },
 "nbformat": 4,
 "nbformat_minor": 4
}
