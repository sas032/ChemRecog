{
 "cells": [
  {
   "cell_type": "code",
   "execution_count": 1,
   "metadata": {},
   "outputs": [],
   "source": [
    "import tensorflow.keras\n",
    "from PIL import Image, ImageOps\n",
    "import numpy as np"
   ]
  },
  {
   "cell_type": "code",
   "execution_count": 6,
   "metadata": {},
   "outputs": [
    {
     "name": "stdout",
     "output_type": "stream",
     "text": [
      "WARNING:tensorflow:No training configuration found in the save file, so the model was *not* compiled. Compile it manually.\n",
      "WARNING:tensorflow:Model was constructed with shape (None, 224, 224, 3) for input Tensor(\"sequential_1_input_4:0\", shape=(None, 224, 224, 3), dtype=float32), but it was called on an input with incompatible shape (None, 1000, 1000, 3).\n",
      "WARNING:tensorflow:Model was constructed with shape (None, 224, 224, 3) for input Tensor(\"model1_input_4:0\", shape=(None, 224, 224, 3), dtype=float32), but it was called on an input with incompatible shape (None, 1000, 1000, 3).\n",
      "WARNING:tensorflow:Model was constructed with shape (None, 224, 224, 3) for input Tensor(\"input_1_4:0\", shape=(None, 224, 224, 3), dtype=float32), but it was called on an input with incompatible shape (None, 1000, 1000, 3).\n",
      "[[0.48807612 0.00259743 0.00478607 0.00334177 0.00351581 0.00244222\n",
      "  0.0114267  0.00268068 0.00438003 0.00158674 0.00291909 0.00472485\n",
      "  0.01502538 0.00308228 0.00201944 0.44739544]]\n"
     ]
    }
   ],
   "source": [
    "labels = [\"benzene\",\"acetaminophen\",\"acetysalicylic\",\"adrenaline\",\"ethane\",\"ethene\",\"ethylene\",\"ibuprofen\",\"isopentane\",\"propylene\",\"M-xykene (1,3 - dimethylbenzene)\",\\\n",
    "          \"o-xylene (1,2 - dimethylbenzene)\",\"neopentane\",\"phenylalanine\",\"P-xylene (1,4 - dimethylbenzene)\",\"Unknown or Bonds\"]\n",
    "\n",
    "np.set_printoptions(suppress=True)\n",
    "\n",
    "model = tensorflow.keras.models.load_model('converted_keras/keras_model.h5')\n",
    "\n",
    "\n",
    "data = np.ndarray(shape=(1, 1000, 1000, 3), dtype=np.float32)\n",
    "\n",
    "image = Image.open('testing/one.jpeg')\n",
    "\n",
    "size = (1000, 1000)\n",
    "image = ImageOps.fit(image, size, Image.ANTIALIAS)\n",
    "\n",
    "\n",
    "image_array = np.asarray(image)\n",
    "image.show()\n",
    "normalized_image_array = (image_array.astype(np.float32) / 127.0) - 1\n",
    "\n",
    "\n",
    "data[0] = normalized_image_array\n",
    "\n",
    "prediction = model.predict(data)\n",
    "print(prediction)"
   ]
  },
  {
   "cell_type": "code",
   "execution_count": null,
   "metadata": {},
   "outputs": [],
   "source": []
  }
 ],
 "metadata": {
  "kernelspec": {
   "display_name": "Python 3",
   "language": "python",
   "name": "python3"
  },
  "language_info": {
   "codemirror_mode": {
    "name": "ipython",
    "version": 3
   },
   "file_extension": ".py",
   "mimetype": "text/x-python",
   "name": "python",
   "nbconvert_exporter": "python",
   "pygments_lexer": "ipython3",
   "version": "3.8.8"
  }
 },
 "nbformat": 4,
 "nbformat_minor": 4
}
